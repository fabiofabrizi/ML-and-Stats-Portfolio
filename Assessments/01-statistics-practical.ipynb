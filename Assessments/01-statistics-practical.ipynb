{
 "cells": [
  {
   "cell_type": "markdown",
   "id": "2986d872",
   "metadata": {},
   "source": [
    "<h3 style=\"letter-spacing:1px;\">Exercise 1.1</h3>\n",
    "\n",
    "\n",
    "Calculate the minimum number of cups of tea required to ensure the probability of randomly selecting the correct cups is less than or equal to 1%.\n",
    "<hr style=\"border-top: 1px solid #001a79;\" />"
   ]
  },
  {
   "cell_type": "markdown",
   "id": "139aacc2",
   "metadata": {},
   "source": [
    "A Google search for:<br>\n",
    "<br>\n",
    "\"Combinations in Python\",\n",
    "<br>\"Fisher's exact test python\" <br>\n",
    "\"Lady tasting tea python\"\n",
    "<br>\n",
    "\n",
    "gives plenty of results to look at.\n",
    "The useful ones have been documented under [References](#references)."
   ]
  },
  {
   "cell_type": "markdown",
   "id": "e31c339a",
   "metadata": {},
   "source": [
    "The following is adapted from https://stackoverflow.com/a/4941932"
   ]
  },
  {
   "cell_type": "code",
   "execution_count": 2,
   "id": "e8692a3e",
   "metadata": {},
   "outputs": [],
   "source": [
    "# Math module\n",
    "import math"
   ]
  },
  {
   "cell_type": "markdown",
   "id": "264cbdae",
   "metadata": {},
   "source": [
    "math.comb(n, k) is used to select k items from n items without repetition and without order, according to the official documentation<sub>1</sub>.\n",
    "<br>\n",
    "\n",
    "Firstly, Let's consider Fisher's experiment with 4 cups from 8:"
   ]
  },
  {
   "cell_type": "markdown",
   "id": "59d6af04",
   "metadata": {},
   "source": [
    "### Experiment using 4 cups from 8:\n",
    "<hr style=\"border-top: 1px solid #000000;\" />"
   ]
  },
  {
   "cell_type": "code",
   "execution_count": 3,
   "id": "907e3f8b",
   "metadata": {},
   "outputs": [
    {
     "data": {
      "text/plain": [
       "70"
      ]
     },
     "execution_count": 3,
     "metadata": {},
     "output_type": "execute_result"
    }
   ],
   "source": [
    "# Number of ways of selecting 4 cups from 8\n",
    "math.comb(8,4)"
   ]
  },
  {
   "cell_type": "code",
   "execution_count": 21,
   "id": "a322f2ba",
   "metadata": {},
   "outputs": [
    {
     "data": {
      "text/plain": [
       "0.014285714285714285"
      ]
     },
     "execution_count": 21,
     "metadata": {},
     "output_type": "execute_result"
    }
   ],
   "source": [
    "# Probability of randomly selecting correct 4 cups is:\n",
    "1.0/math.comb(8,4)"
   ]
  },
  {
   "cell_type": "markdown",
   "id": "0e6466c4",
   "metadata": {},
   "source": [
    "Which is approximately 1.43%. "
   ]
  },
  {
   "cell_type": "markdown",
   "id": "2f53a844",
   "metadata": {},
   "source": [
    "### Experiment using 5 cups from 10:\n",
    "<hr style=\"border-top: 1px solid #000000;\" />"
   ]
  },
  {
   "cell_type": "code",
   "execution_count": 4,
   "id": "2bace163",
   "metadata": {},
   "outputs": [
    {
     "data": {
      "text/plain": [
       "252"
      ]
     },
     "execution_count": 4,
     "metadata": {},
     "output_type": "execute_result"
    }
   ],
   "source": [
    "# Number of ways of selecting 5 cups from 10.\n",
    "math.comb(10, 5)"
   ]
  },
  {
   "cell_type": "code",
   "execution_count": 29,
   "id": "399a125d",
   "metadata": {},
   "outputs": [
    {
     "data": {
      "text/plain": [
       "0.003968253968253968"
      ]
     },
     "execution_count": 29,
     "metadata": {},
     "output_type": "execute_result"
    }
   ],
   "source": [
    "# Probability of randomly selecting correct 5 cups is:\n",
    "1.0/math.comb(10, 5)"
   ]
  },
  {
   "cell_type": "markdown",
   "id": "f75b9b5b",
   "metadata": {},
   "source": [
    "Which is approximately 0.4%"
   ]
  },
  {
   "cell_type": "markdown",
   "id": "4626e0a3",
   "metadata": {},
   "source": [
    "So, if the experiment was done with 10 cups total, five with milk in first and five with tea in first, then the chance of sleecting correctly randomly is much less than 1% "
   ]
  },
  {
   "cell_type": "markdown",
   "id": "30604fd6",
   "metadata": {},
   "source": [
    "### Experiment using 4 cups from 9:\n",
    "<hr style=\"border-top: 1px solid #000000;\" />"
   ]
  },
  {
   "cell_type": "markdown",
   "id": "020d883e",
   "metadata": {},
   "source": [
    "We could design the experiment to have 9 cups in total, 4 with milk in first and five with tea in first, or vice versa."
   ]
  },
  {
   "cell_type": "code",
   "execution_count": 8,
   "id": "3789ffa7",
   "metadata": {},
   "outputs": [
    {
     "data": {
      "text/plain": [
       "126"
      ]
     },
     "execution_count": 8,
     "metadata": {},
     "output_type": "execute_result"
    }
   ],
   "source": [
    "# Number of ways of selecting 4 cups from 9\n",
    "math.comb(9,4)"
   ]
  },
  {
   "cell_type": "code",
   "execution_count": 9,
   "id": "bd8f8c41",
   "metadata": {},
   "outputs": [
    {
     "data": {
      "text/plain": [
       "0.007936507936507936"
      ]
     },
     "execution_count": 9,
     "metadata": {},
     "output_type": "execute_result"
    }
   ],
   "source": [
    "# The probability is then:\n",
    "1.0/math.comb(9,4)"
   ]
  },
  {
   "cell_type": "markdown",
   "id": "ef8a71ab",
   "metadata": {},
   "source": [
    "This is approximately 0.8%."
   ]
  },
  {
   "cell_type": "markdown",
   "id": "6396252e",
   "metadata": {},
   "source": [
    "### Experiment using 5 cups from 9:\n",
    "<hr style=\"border-top: 1px solid #000000;\" />"
   ]
  },
  {
   "cell_type": "code",
   "execution_count": 11,
   "id": "72423e91",
   "metadata": {},
   "outputs": [
    {
     "data": {
      "text/plain": [
       "126"
      ]
     },
     "execution_count": 11,
     "metadata": {},
     "output_type": "execute_result"
    }
   ],
   "source": [
    "# Note the number of ways of selecting 5 cups from 9:\n",
    "math.comb(9, 5)"
   ]
  },
  {
   "cell_type": "code",
   "execution_count": 24,
   "id": "ef26eadf",
   "metadata": {},
   "outputs": [
    {
     "data": {
      "text/plain": [
       "0.007936507936507936"
      ]
     },
     "execution_count": 24,
     "metadata": {},
     "output_type": "execute_result"
    }
   ],
   "source": [
    "# The probability is then:\n",
    "1.0/math.comb(9, 5)"
   ]
  },
  {
   "cell_type": "markdown",
   "id": "b453983c",
   "metadata": {},
   "source": [
    "Also approximately 0.8%. This is because the number of ways doesn't change."
   ]
  },
  {
   "cell_type": "markdown",
   "id": "bfbee511",
   "metadata": {},
   "source": [
    "### Experiment using 6 cups from 12:\n",
    "<hr style=\"border-top: 1px solid #000000;\" />"
   ]
  },
  {
   "cell_type": "code",
   "execution_count": 26,
   "id": "e1c68b87",
   "metadata": {},
   "outputs": [
    {
     "data": {
      "text/plain": [
       "924"
      ]
     },
     "execution_count": 26,
     "metadata": {},
     "output_type": "execute_result"
    }
   ],
   "source": [
    "math.comb(12,6)"
   ]
  },
  {
   "cell_type": "code",
   "execution_count": 27,
   "id": "ebf80258",
   "metadata": {},
   "outputs": [
    {
     "data": {
      "text/plain": [
       "0.0010822510822510823"
      ]
     },
     "execution_count": 27,
     "metadata": {},
     "output_type": "execute_result"
    }
   ],
   "source": [
    "1.0/math.comb(12,6)"
   ]
  },
  {
   "cell_type": "markdown",
   "id": "5c3fcb0b",
   "metadata": {},
   "source": [
    "Which gives approximately 0.1%."
   ]
  },
  {
   "cell_type": "markdown",
   "id": "19ff246f",
   "metadata": {},
   "source": [
    "### Conclusion:\n",
    "<hr style=\"border-top: 1px solid #000000;\" />"
   ]
  },
  {
   "cell_type": "markdown",
   "id": "b92a18b7",
   "metadata": {},
   "source": [
    "As the number of cups increase, the probability of choosing the correct cups decrease. \n",
    "Therefore, the minimum cups of tea that gives a probability close to 1% is 9 cups."
   ]
  },
  {
   "cell_type": "code",
   "execution_count": null,
   "id": "d2ceaff9",
   "metadata": {},
   "outputs": [],
   "source": []
  },
  {
   "cell_type": "markdown",
   "id": "ef7b98c8",
   "metadata": {},
   "source": [
    "### Bonus Question:\n",
    "How many would be required if you were to let the taster \n",
    "get one cup wrong while maintaining the 1% threshold?\n",
    "<hr style=\"border-top: 1px solid #000000;\" />\n",
    "\n",
    "    "
   ]
  },
  {
   "cell_type": "markdown",
   "id": "db749f43",
   "metadata": {},
   "source": [
    "For 3 cups out of 8:"
   ]
  },
  {
   "cell_type": "code",
   "execution_count": 44,
   "id": "178c3923",
   "metadata": {},
   "outputs": [
    {
     "data": {
      "text/plain": [
       "0.017857142857142856"
      ]
     },
     "execution_count": 44,
     "metadata": {},
     "output_type": "execute_result"
    }
   ],
   "source": [
    "1.0/math.comb(8,3)\n"
   ]
  },
  {
   "cell_type": "markdown",
   "id": "c4c56555",
   "metadata": {},
   "source": [
    "For 3 cups out of 9:"
   ]
  },
  {
   "cell_type": "code",
   "execution_count": 50,
   "id": "10afbd65",
   "metadata": {},
   "outputs": [
    {
     "data": {
      "text/plain": [
       "0.011904761904761904"
      ]
     },
     "execution_count": 50,
     "metadata": {},
     "output_type": "execute_result"
    }
   ],
   "source": [
    "1.0/math.comb(9,3)"
   ]
  },
  {
   "cell_type": "markdown",
   "id": "c4ab61bc",
   "metadata": {},
   "source": [
    "For 3 cups out of 10:"
   ]
  },
  {
   "cell_type": "markdown",
   "id": "d94691ed",
   "metadata": {},
   "source": []
  },
  {
   "cell_type": "markdown",
   "id": "23ddc5b5",
   "metadata": {},
   "source": [
    "Use <a href=\"https://docs.scipy.org/doc/scipy/reference/generated/scipy.stats.fisher_exact.html\" style=\"color: #ff791e\">scipy's version of Fisher's exact test</a> to simulate the Lady Tasting Tea problem."
   ]
  },
  {
   "cell_type": "code",
   "execution_count": 13,
   "id": "125dbb83",
   "metadata": {},
   "outputs": [],
   "source": [
    "# First, import the scipy\n",
    "import scipy.stats as ss"
   ]
  },
  {
   "cell_type": "code",
   "execution_count": 16,
   "id": "63636085",
   "metadata": {},
   "outputs": [
    {
     "data": {
      "text/plain": [
       "(inf, 0.028571428571428536)"
      ]
     },
     "execution_count": 16,
     "metadata": {},
     "output_type": "execute_result"
    }
   ],
   "source": [
    "ss.fisher_exact([[4, 0], [0, 4]])"
   ]
  },
  {
   "cell_type": "code",
   "execution_count": 17,
   "id": "b90cb10c",
   "metadata": {},
   "outputs": [
    {
     "data": {
      "text/plain": [
       "0.02857142857142857"
      ]
     },
     "execution_count": 17,
     "metadata": {},
     "output_type": "execute_result"
    }
   ],
   "source": [
    "0.014285714285714285 * 2"
   ]
  },
  {
   "cell_type": "markdown",
   "id": "00a20a19",
   "metadata": {},
   "source": [
    "<a id=\"references\"></a>"
   ]
  },
  {
   "cell_type": "markdown",
   "id": "890b5513",
   "metadata": {},
   "source": [
    "<h3 style=\"font-weight:200\">References:</h3>\n",
    "<br>"
   ]
  },
  {
   "cell_type": "markdown",
   "id": "224715a4",
   "metadata": {},
   "source": [
    "1. [The Python math module](https://docs.python.org/3/library/math.html) - Lists all the built-in methods of the Python math module with a brief explanation.\n",
    "2. [The Python math.comb() method](https://www.w3schools.com/python/ref_math_comb.asp) - Simple explanation of the math.comb() method\n",
    "\n",
    "                                                        "
   ]
  }
 ],
 "metadata": {
  "kernelspec": {
   "display_name": "Python 3 (ipykernel)",
   "language": "python",
   "name": "python3"
  },
  "language_info": {
   "codemirror_mode": {
    "name": "ipython",
    "version": 3
   },
   "file_extension": ".py",
   "mimetype": "text/x-python",
   "name": "python",
   "nbconvert_exporter": "python",
   "pygments_lexer": "ipython3",
   "version": "3.9.13"
  }
 },
 "nbformat": 4,
 "nbformat_minor": 5
}
