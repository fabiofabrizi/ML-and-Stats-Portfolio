{
 "cells": [
  {
   "cell_type": "markdown",
   "id": "5889e9be",
   "metadata": {},
   "source": [
    "<h3 style=\"letter-spacing:1px;\">Exercise 1.1</h3>\n",
    "\n",
    "\n",
    "Calculate the minimum number of cups of tea required to ensure the probability of randomly selecting the correct cups is less than or equal to 1%.\n",
    "<hr style=\"border-top: 1px solid #001a79;\" />"
   ]
  },
  {
   "cell_type": "markdown",
   "id": "0589a6d5",
   "metadata": {},
   "source": [
    "A Google search for:<br>\n",
    "<br>\n",
    "\"Combinations in Python\",\n",
    "<br>\"Fisher's exact test python\" <br>\n",
    "\"Lady tasting tea python\"\n",
    "<br>\n",
    "\n",
    "gives plenty of results to look at.\n",
    "The useful ones have been documented under [References](#references)."
   ]
  },
  {
   "cell_type": "markdown",
   "id": "f3aeb619",
   "metadata": {},
   "source": [
    "The following is adapted from https://stackoverflow.com/a/4941932"
   ]
  },
  {
   "cell_type": "code",
   "execution_count": 2,
   "id": "091944c7",
   "metadata": {},
   "outputs": [],
   "source": [
    "# Math module\n",
    "import math"
   ]
  },
  {
   "cell_type": "markdown",
   "id": "0947fd04",
   "metadata": {},
   "source": [
    "math.comb(n, k) is used to select k items from n items without repetition and without order, according to the official documentation<sub>1</sub>.\n",
    "<br>\n",
    "\n",
    "Firstly, Let's consider Fisher's experiment with 4 cups from 8:"
   ]
  },
  {
   "cell_type": "markdown",
   "id": "75c63397",
   "metadata": {},
   "source": [
    "### Experiment using 4 cups from 8:\n",
    "<hr style=\"border-top: 1px solid #000000;\" />"
   ]
  },
  {
   "cell_type": "code",
   "execution_count": 3,
   "id": "bb1d4dd7",
   "metadata": {},
   "outputs": [
    {
     "data": {
      "text/plain": [
       "70"
      ]
     },
     "execution_count": 3,
     "metadata": {},
     "output_type": "execute_result"
    }
   ],
   "source": [
    "# Number of ways of selecting 4 cups from 8\n",
    "math.comb(8,4)"
   ]
  },
  {
   "cell_type": "code",
   "execution_count": 21,
   "id": "c55e7c01",
   "metadata": {},
   "outputs": [
    {
     "data": {
      "text/plain": [
       "0.014285714285714285"
      ]
     },
     "execution_count": 21,
     "metadata": {},
     "output_type": "execute_result"
    }
   ],
   "source": [
    "# Probability of randomly selecting correct 4 cups is:\n",
    "1.0/math.comb(8,4)"
   ]
  },
  {
   "cell_type": "markdown",
   "id": "b7dcded7",
   "metadata": {},
   "source": [
    "Which is approximately 1.43%. "
   ]
  },
  {
   "cell_type": "markdown",
   "id": "79ed79d9",
   "metadata": {},
   "source": [
    "### Experiment using 5 cups from 10:\n",
    "<hr style=\"border-top: 1px solid #000000;\" />"
   ]
  },
  {
   "cell_type": "code",
   "execution_count": 4,
   "id": "f29857ec",
   "metadata": {},
   "outputs": [
    {
     "data": {
      "text/plain": [
       "252"
      ]
     },
     "execution_count": 4,
     "metadata": {},
     "output_type": "execute_result"
    }
   ],
   "source": [
    "# Number of ways of selecting 5 cups from 10.\n",
    "math.comb(10, 5)"
   ]
  },
  {
   "cell_type": "code",
   "execution_count": 29,
   "id": "108af66c",
   "metadata": {},
   "outputs": [
    {
     "data": {
      "text/plain": [
       "0.003968253968253968"
      ]
     },
     "execution_count": 29,
     "metadata": {},
     "output_type": "execute_result"
    }
   ],
   "source": [
    "# Probability of randomly selecting correct 5 cups is:\n",
    "1.0/math.comb(10, 5)"
   ]
  },
  {
   "cell_type": "markdown",
   "id": "734c70e9",
   "metadata": {},
   "source": [
    "Which is approximately 0.4%"
   ]
  },
  {
   "cell_type": "markdown",
   "id": "8b1f353b",
   "metadata": {},
   "source": [
    "So, if the experiment was done with 10 cups total, five with milk in first and five with tea in first, then the chance of sleecting correctly randomly is much less than 1% "
   ]
  },
  {
   "cell_type": "markdown",
   "id": "ba74ae4d",
   "metadata": {},
   "source": [
    "### Experiment using 4 cups from 9:\n",
    "<hr style=\"border-top: 1px solid #000000;\" />"
   ]
  },
  {
   "cell_type": "markdown",
   "id": "bdf652c4",
   "metadata": {},
   "source": [
    "We could design the experiment to have 9 cups in total, 4 with milk in first and five with tea in first, or vice versa."
   ]
  },
  {
   "cell_type": "code",
   "execution_count": 8,
   "id": "e4cf96f7",
   "metadata": {},
   "outputs": [
    {
     "data": {
      "text/plain": [
       "126"
      ]
     },
     "execution_count": 8,
     "metadata": {},
     "output_type": "execute_result"
    }
   ],
   "source": [
    "# Number of ways of selecting 4 cups from 9\n",
    "math.comb(9,4)"
   ]
  },
  {
   "cell_type": "code",
   "execution_count": 9,
   "id": "8624be9d",
   "metadata": {},
   "outputs": [
    {
     "data": {
      "text/plain": [
       "0.007936507936507936"
      ]
     },
     "execution_count": 9,
     "metadata": {},
     "output_type": "execute_result"
    }
   ],
   "source": [
    "# The probability is then:\n",
    "1.0/math.comb(9,4)"
   ]
  },
  {
   "cell_type": "markdown",
   "id": "e673ccf1",
   "metadata": {},
   "source": [
    "This is approximately 0.8%."
   ]
  },
  {
   "cell_type": "markdown",
   "id": "e02ea23e",
   "metadata": {},
   "source": [
    "### Experiment using 5 cups from 9:\n",
    "<hr style=\"border-top: 1px solid #000000;\" />"
   ]
  },
  {
   "cell_type": "code",
   "execution_count": 11,
   "id": "7b649d96",
   "metadata": {},
   "outputs": [
    {
     "data": {
      "text/plain": [
       "126"
      ]
     },
     "execution_count": 11,
     "metadata": {},
     "output_type": "execute_result"
    }
   ],
   "source": [
    "# Note the number of ways of selecting 5 cups from 9:\n",
    "math.comb(9, 5)"
   ]
  },
  {
   "cell_type": "code",
   "execution_count": 24,
   "id": "72035140",
   "metadata": {},
   "outputs": [
    {
     "data": {
      "text/plain": [
       "0.007936507936507936"
      ]
     },
     "execution_count": 24,
     "metadata": {},
     "output_type": "execute_result"
    }
   ],
   "source": [
    "# The probability is then:\n",
    "1.0/math.comb(9, 5)"
   ]
  },
  {
   "cell_type": "markdown",
   "id": "0e820d80",
   "metadata": {},
   "source": [
    "Also approximately 0.8%. This is because the number of ways doesn't change."
   ]
  },
  {
   "cell_type": "markdown",
   "id": "ff37d6fd",
   "metadata": {},
   "source": [
    "### Experiment using 6 cups from 12:\n",
    "<hr style=\"border-top: 1px solid #000000;\" />"
   ]
  },
  {
   "cell_type": "code",
   "execution_count": 26,
   "id": "11242275",
   "metadata": {},
   "outputs": [
    {
     "data": {
      "text/plain": [
       "924"
      ]
     },
     "execution_count": 26,
     "metadata": {},
     "output_type": "execute_result"
    }
   ],
   "source": [
    "math.comb(12,6)"
   ]
  },
  {
   "cell_type": "code",
   "execution_count": 27,
   "id": "176ea41c",
   "metadata": {},
   "outputs": [
    {
     "data": {
      "text/plain": [
       "0.0010822510822510823"
      ]
     },
     "execution_count": 27,
     "metadata": {},
     "output_type": "execute_result"
    }
   ],
   "source": [
    "1.0/math.comb(12,6)"
   ]
  },
  {
   "cell_type": "markdown",
   "id": "5050fc8c",
   "metadata": {},
   "source": [
    "Which gives approximately 0.1%."
   ]
  },
  {
   "cell_type": "markdown",
   "id": "881ae398",
   "metadata": {},
   "source": [
    "### Conclusion:\n",
    "<hr style=\"border-top: 1px solid #000000;\" />"
   ]
  },
  {
   "cell_type": "markdown",
   "id": "5e3d3bac",
   "metadata": {},
   "source": [
    "As the number of cups increase, the probability of choosing the correct cups decrease. \n",
    "Therefore, the minimum cups of tea that gives a probability close to 1% is 9 cups."
   ]
  },
  {
   "cell_type": "code",
   "execution_count": null,
   "id": "090fdf3d",
   "metadata": {},
   "outputs": [],
   "source": []
  },
  {
   "cell_type": "markdown",
   "id": "da13eb93",
   "metadata": {},
   "source": [
    "### Bonus Question:\n",
    "How many would be required if you were to let the taster \n",
    "get one cup wrong while maintaining the 1% threshold?\n",
    "<hr style=\"border-top: 1px solid #000000;\" />\n",
    "\n",
    "    "
   ]
  },
  {
   "cell_type": "markdown",
   "id": "a8fca954",
   "metadata": {},
   "source": [
    "For 3 cups out of 8:"
   ]
  },
  {
   "cell_type": "code",
   "execution_count": 44,
   "id": "9d68604e",
   "metadata": {},
   "outputs": [
    {
     "data": {
      "text/plain": [
       "0.017857142857142856"
      ]
     },
     "execution_count": 44,
     "metadata": {},
     "output_type": "execute_result"
    }
   ],
   "source": [
    "1.0/math.comb(8,3)\n"
   ]
  },
  {
   "cell_type": "markdown",
   "id": "e2706a6a",
   "metadata": {},
   "source": [
    "For 3 cups out of 9:"
   ]
  },
  {
   "cell_type": "code",
   "execution_count": 50,
   "id": "247df8ff",
   "metadata": {},
   "outputs": [
    {
     "data": {
      "text/plain": [
       "0.011904761904761904"
      ]
     },
     "execution_count": 50,
     "metadata": {},
     "output_type": "execute_result"
    }
   ],
   "source": [
    "1.0/math.comb(9,3)"
   ]
  },
  {
   "cell_type": "markdown",
   "id": "999865ab",
   "metadata": {},
   "source": [
    "For 3 cups out of 10:"
   ]
  },
  {
   "cell_type": "code",
   "execution_count": 52,
   "id": "4113af63",
   "metadata": {},
   "outputs": [
    {
     "data": {
      "text/plain": [
       "0.008333333333333333"
      ]
     },
     "execution_count": 52,
     "metadata": {},
     "output_type": "execute_result"
    }
   ],
   "source": [
    "1.0/math.comb(10,3)"
   ]
  },
  {
   "cell_type": "markdown",
   "id": "d05a348e",
   "metadata": {},
   "source": [
    "So 10 cups are needed to maintain the 1% threshold whilst getting one cup wrong."
   ]
  },
  {
   "cell_type": "markdown",
   "id": "2d21b1b1",
   "metadata": {},
   "source": [
    "### Sci Py:\n",
    "Use <a href=\"https://docs.scipy.org/doc/scipy/reference/generated/scipy.stats.fisher_exact.html\" style=\"color: #ff791e\">scipy's version of Fisher's exact test</a> to simulate the Lady Tasting Tea problem.\n",
    "<hr style=\"border-top: 1px solid #000000;\" />"
   ]
  },
  {
   "cell_type": "code",
   "execution_count": 81,
   "id": "a0682e8d",
   "metadata": {},
   "outputs": [],
   "source": [
    "# First, import the scipy\n",
    "import scipy.stats as ss\n",
    "import pandas as np"
   ]
  },
  {
   "cell_type": "code",
   "execution_count": 16,
   "id": "4088d0b0",
   "metadata": {},
   "outputs": [
    {
     "data": {
      "text/plain": [
       "(inf, 0.028571428571428536)"
      ]
     },
     "execution_count": 16,
     "metadata": {},
     "output_type": "execute_result"
    }
   ],
   "source": [
    "ss.fisher_exact([[4, 0], [0, 4]])"
   ]
  },
  {
   "cell_type": "code",
   "execution_count": 17,
   "id": "1b448dc4",
   "metadata": {},
   "outputs": [
    {
     "data": {
      "text/plain": [
       "0.02857142857142857"
      ]
     },
     "execution_count": 17,
     "metadata": {},
     "output_type": "execute_result"
    }
   ],
   "source": [
    "0.014285714285714285 * 2"
   ]
  },
  {
   "cell_type": "markdown",
   "id": "4317e66b",
   "metadata": {},
   "source": [
    "Playing around with sci py\n"
   ]
  },
  {
   "cell_type": "code",
   "execution_count": 59,
   "id": "3884200e",
   "metadata": {},
   "outputs": [],
   "source": [
    "table = ([3, 1], [1, 3])"
   ]
  },
  {
   "cell_type": "code",
   "execution_count": 72,
   "id": "391b4e34",
   "metadata": {},
   "outputs": [
    {
     "data": {
      "text/plain": [
       "(9.0, 0.48571428571428527)"
      ]
     },
     "execution_count": 72,
     "metadata": {},
     "output_type": "execute_result"
    }
   ],
   "source": [
    "ss.fisher_exact((table), alternative=\"two-sided\")"
   ]
  },
  {
   "cell_type": "code",
   "execution_count": 93,
   "id": "ffed28fa",
   "metadata": {},
   "outputs": [],
   "source": [
    "oddsratio, pvalue = ss.fisher_exact(([[4, 0], [0, 4]]),\"greater\")"
   ]
  },
  {
   "cell_type": "code",
   "execution_count": 90,
   "id": "909cd783",
   "metadata": {},
   "outputs": [
    {
     "data": {
      "text/plain": [
       "inf"
      ]
     },
     "execution_count": 90,
     "metadata": {},
     "output_type": "execute_result"
    }
   ],
   "source": [
    "oddsratio"
   ]
  },
  {
   "cell_type": "code",
   "execution_count": 94,
   "id": "b3d543ad",
   "metadata": {},
   "outputs": [
    {
     "data": {
      "text/plain": [
       "0.014285714285714268"
      ]
     },
     "execution_count": 94,
     "metadata": {},
     "output_type": "execute_result"
    }
   ],
   "source": [
    "pvalue"
   ]
  },
  {
   "cell_type": "code",
   "execution_count": null,
   "id": "d75be501",
   "metadata": {},
   "outputs": [],
   "source": []
  },
  {
   "cell_type": "markdown",
   "id": "d0d6c8f2",
   "metadata": {},
   "source": [
    "<a id=\"references\"></a>"
   ]
  },
  {
   "cell_type": "markdown",
   "id": "19afbc4c",
   "metadata": {},
   "source": [
    "<h3 style=\"font-weight:200\">References:</h3>\n",
    "<br>"
   ]
  },
  {
   "cell_type": "markdown",
   "id": "91b75c2c",
   "metadata": {},
   "source": [
    "1. [Ian's notebook](https://github.com/ianmcloughlin/2223-S1-machine-learn-stats/blob/main/notebooks/01-statistics.ipynb) - This notebook is based on this\n",
    "2. [The Python math module](https://docs.python.org/3/library/math.html) - Lists all the built-in methods of the Python math module with a brief explanation.\n",
    "3. [The Python math.comb() method](https://www.w3schools.com/python/ref_math_comb.asp) - Simple explanation of the math.comb() method\n",
    "\n",
    "                                                        "
   ]
  }
 ],
 "metadata": {
  "kernelspec": {
   "display_name": "Python 3 (ipykernel)",
   "language": "python",
   "name": "python3"
  },
  "language_info": {
   "codemirror_mode": {
    "name": "ipython",
    "version": 3
   },
   "file_extension": ".py",
   "mimetype": "text/x-python",
   "name": "python",
   "nbconvert_exporter": "python",
   "pygments_lexer": "ipython3",
   "version": "3.9.13"
  }
 },
 "nbformat": 4,
 "nbformat_minor": 5
}
