{
 "cells": [
  {
   "cell_type": "markdown",
   "id": "cc47d546",
   "metadata": {},
   "source": [
    "### Exercise 1.1\n",
    "\n",
    "\n",
    "Calculate the minimum number of cups of tea required to ensure the probability of randomly selecting the correct cups is less than or equal to 1%.\n",
    "<hr style=\"border-top: 1px solid #001a79;\" />"
   ]
  },
  {
   "cell_type": "markdown",
   "id": "e4cea89a",
   "metadata": {},
   "source": [
    "A Google search for:<br>\n",
    "<br>\n",
    "\"Combinations in Python\",\n",
    "<br>\"Fisher's exact test python\" <br>\n",
    "\"Lady tasting tea python\"\n",
    "<br>\n",
    "\n",
    "gives plenty of results to look at.\n",
    "The useful ones have been documented under [References](#references)."
   ]
  },
  {
   "cell_type": "markdown",
   "id": "037e42b7",
   "metadata": {},
   "source": [
    "The following is adapted from https://stackoverflow.com/a/4941932"
   ]
  },
  {
   "cell_type": "code",
   "execution_count": 2,
   "id": "6b22849f",
   "metadata": {},
   "outputs": [],
   "source": [
    "# Math module\n",
    "import math"
   ]
  },
  {
   "cell_type": "markdown",
   "id": "adcefde3",
   "metadata": {},
   "source": [
    "math.comb(n, k) is used to select k items from n items without repetition and without order, according to the official documentation<sub>1</sub>.\n",
    "<br>\n",
    "\n",
    "Firstly, Let's consider Fisher's experiment with 4 cups from 8:"
   ]
  },
  {
   "cell_type": "markdown",
   "id": "4ccb5ef7",
   "metadata": {},
   "source": [
    "### Experiment using 4 cups from 8:\n",
    "<hr style=\"border-top: 1px solid #000000;\" />"
   ]
  },
  {
   "cell_type": "code",
   "execution_count": 3,
   "id": "a6d8baf6",
   "metadata": {},
   "outputs": [
    {
     "data": {
      "text/plain": [
       "70"
      ]
     },
     "execution_count": 3,
     "metadata": {},
     "output_type": "execute_result"
    }
   ],
   "source": [
    "# Number of ways of selecting 4 cups from 8\n",
    "math.comb(8,4)"
   ]
  },
  {
   "cell_type": "code",
   "execution_count": 21,
   "id": "68a01162",
   "metadata": {},
   "outputs": [
    {
     "data": {
      "text/plain": [
       "0.014285714285714285"
      ]
     },
     "execution_count": 21,
     "metadata": {},
     "output_type": "execute_result"
    }
   ],
   "source": [
    "# Probability of randomly selecting correct 4 cups is:\n",
    "1.0/math.comb(8,4)"
   ]
  },
  {
   "cell_type": "markdown",
   "id": "5c55dadf",
   "metadata": {},
   "source": [
    "Which is approximately 1.43%. "
   ]
  },
  {
   "cell_type": "markdown",
   "id": "3e01ff95",
   "metadata": {},
   "source": [
    "### Experiment using 5 cups from 10:\n",
    "<hr style=\"border-top: 1px solid #000000;\" />"
   ]
  },
  {
   "cell_type": "code",
   "execution_count": 4,
   "id": "b7ac1063",
   "metadata": {},
   "outputs": [
    {
     "data": {
      "text/plain": [
       "252"
      ]
     },
     "execution_count": 4,
     "metadata": {},
     "output_type": "execute_result"
    }
   ],
   "source": [
    "# Number of ways of selecting 5 cups from 10.\n",
    "math.comb(10, 5)"
   ]
  },
  {
   "cell_type": "code",
   "execution_count": 29,
   "id": "3ded129e",
   "metadata": {},
   "outputs": [
    {
     "data": {
      "text/plain": [
       "0.003968253968253968"
      ]
     },
     "execution_count": 29,
     "metadata": {},
     "output_type": "execute_result"
    }
   ],
   "source": [
    "# Probability of randomly selecting correct 5 cups is:\n",
    "1.0/math.comb(10, 5)"
   ]
  },
  {
   "cell_type": "markdown",
   "id": "b5e4c673",
   "metadata": {},
   "source": [
    "Which is approximately 0.4%"
   ]
  },
  {
   "cell_type": "markdown",
   "id": "d9dc26ca",
   "metadata": {},
   "source": [
    "So, if the experiment was done with 10 cups total, five with milk in first and five with tea in first, then the chance of sleecting correctly randomly is much less than 1% "
   ]
  },
  {
   "cell_type": "markdown",
   "id": "343ab2da",
   "metadata": {},
   "source": [
    "### Experiment using 4 cups from 9:\n",
    "<hr style=\"border-top: 1px solid #000000;\" />"
   ]
  },
  {
   "cell_type": "markdown",
   "id": "1fabecc5",
   "metadata": {},
   "source": [
    "We could design the experiment to have 9 cups in total, 4 with milk in first and five with tea in first, or vice versa."
   ]
  },
  {
   "cell_type": "code",
   "execution_count": 8,
   "id": "47069a47",
   "metadata": {},
   "outputs": [
    {
     "data": {
      "text/plain": [
       "126"
      ]
     },
     "execution_count": 8,
     "metadata": {},
     "output_type": "execute_result"
    }
   ],
   "source": [
    "# Number of ways of selecting 4 cups from 9\n",
    "math.comb(9,4)"
   ]
  },
  {
   "cell_type": "code",
   "execution_count": 9,
   "id": "ea4ce5f0",
   "metadata": {},
   "outputs": [
    {
     "data": {
      "text/plain": [
       "0.007936507936507936"
      ]
     },
     "execution_count": 9,
     "metadata": {},
     "output_type": "execute_result"
    }
   ],
   "source": [
    "# The probability is then:\n",
    "1.0/math.comb(9,4)"
   ]
  },
  {
   "cell_type": "markdown",
   "id": "6fee4524",
   "metadata": {},
   "source": [
    "This is approximately 0.8%."
   ]
  },
  {
   "cell_type": "markdown",
   "id": "2eed83b8",
   "metadata": {},
   "source": [
    "### Experiment using 5 cups from 9:\n",
    "<hr style=\"border-top: 1px solid #000000;\" />"
   ]
  },
  {
   "cell_type": "code",
   "execution_count": 11,
   "id": "051b4152",
   "metadata": {},
   "outputs": [
    {
     "data": {
      "text/plain": [
       "126"
      ]
     },
     "execution_count": 11,
     "metadata": {},
     "output_type": "execute_result"
    }
   ],
   "source": [
    "# Note the number of ways of selecting 5 cups from 9:\n",
    "math.comb(9, 5)"
   ]
  },
  {
   "cell_type": "code",
   "execution_count": 24,
   "id": "0c867594",
   "metadata": {},
   "outputs": [
    {
     "data": {
      "text/plain": [
       "0.007936507936507936"
      ]
     },
     "execution_count": 24,
     "metadata": {},
     "output_type": "execute_result"
    }
   ],
   "source": [
    "# The probability is then:\n",
    "1.0/math.comb(9, 5)"
   ]
  },
  {
   "cell_type": "markdown",
   "id": "e51a82c9",
   "metadata": {},
   "source": [
    "Also approximately 0.8%. This is because the number of ways doesn't change."
   ]
  },
  {
   "cell_type": "markdown",
   "id": "85b7714b",
   "metadata": {},
   "source": [
    "### Experiment using 6 cups from 12:\n",
    "<hr style=\"border-top: 1px solid #000000;\" />"
   ]
  },
  {
   "cell_type": "code",
   "execution_count": 26,
   "id": "6ecf0825",
   "metadata": {},
   "outputs": [
    {
     "data": {
      "text/plain": [
       "924"
      ]
     },
     "execution_count": 26,
     "metadata": {},
     "output_type": "execute_result"
    }
   ],
   "source": [
    "math.comb(12,6)"
   ]
  },
  {
   "cell_type": "code",
   "execution_count": 27,
   "id": "bc5355d1",
   "metadata": {},
   "outputs": [
    {
     "data": {
      "text/plain": [
       "0.0010822510822510823"
      ]
     },
     "execution_count": 27,
     "metadata": {},
     "output_type": "execute_result"
    }
   ],
   "source": [
    "1.0/math.comb(12,6)"
   ]
  },
  {
   "cell_type": "markdown",
   "id": "97f68368",
   "metadata": {},
   "source": [
    "Which gives approximately 0.1%."
   ]
  },
  {
   "cell_type": "markdown",
   "id": "d179f6a6",
   "metadata": {},
   "source": [
    "### Conclusion:\n",
    "<hr style=\"border-top: 1px solid #000000;\" />"
   ]
  },
  {
   "cell_type": "markdown",
   "id": "9265eb5f",
   "metadata": {},
   "source": [
    "As the number of cups increase, the probability of choosing the correct cups decrease. \n",
    "Therefore, the minimum cups of tea that gives a probability close to 1% is 9 cups."
   ]
  },
  {
   "cell_type": "code",
   "execution_count": null,
   "id": "a4877e6b",
   "metadata": {},
   "outputs": [],
   "source": []
  },
  {
   "cell_type": "markdown",
   "id": "b64606f9",
   "metadata": {},
   "source": [
    "### Bonus Question:\n",
    "How many would be required if you were to let the taster \n",
    "get one cup wrong while maintaining the 1% threshold?\n",
    "<hr style=\"border-top: 1px solid #000000;\" />\n",
    "\n",
    "    "
   ]
  },
  {
   "cell_type": "markdown",
   "id": "b3d8097e",
   "metadata": {},
   "source": [
    "If I understand correctly:\n",
    "Probability = (num of desired outcomes)/(total num of possible outcomes)\n",
    "So if one cup is wrong, that must be that 3 cups must be right."
   ]
  },
  {
   "cell_type": "markdown",
   "id": "42fe83c5",
   "metadata": {},
   "source": [
    "For 3 cups out of 8:"
   ]
  },
  {
   "cell_type": "code",
   "execution_count": 98,
   "id": "0fb31da6",
   "metadata": {},
   "outputs": [
    {
     "data": {
      "text/plain": [
       "0.017857142857142856"
      ]
     },
     "execution_count": 98,
     "metadata": {},
     "output_type": "execute_result"
    }
   ],
   "source": [
    "# Probability of randomly selecting 3 correct cups is:\n",
    "1.0/math.comb(8,3)"
   ]
  },
  {
   "cell_type": "markdown",
   "id": "396716f0",
   "metadata": {},
   "source": [
    "Probability of randomly selecting 3 cups out of 9:"
   ]
  },
  {
   "cell_type": "code",
   "execution_count": 50,
   "id": "37753425",
   "metadata": {},
   "outputs": [
    {
     "data": {
      "text/plain": [
       "0.011904761904761904"
      ]
     },
     "execution_count": 50,
     "metadata": {},
     "output_type": "execute_result"
    }
   ],
   "source": [
    "1.0/math.comb(9,3)"
   ]
  },
  {
   "cell_type": "markdown",
   "id": "42d4fae6",
   "metadata": {},
   "source": [
    "For 3 cups out of 10:"
   ]
  },
  {
   "cell_type": "code",
   "execution_count": 52,
   "id": "85aea9e3",
   "metadata": {},
   "outputs": [
    {
     "data": {
      "text/plain": [
       "0.008333333333333333"
      ]
     },
     "execution_count": 52,
     "metadata": {},
     "output_type": "execute_result"
    }
   ],
   "source": [
    "1.0/math.comb(10,3)"
   ]
  },
  {
   "cell_type": "markdown",
   "id": "c3fa3a59",
   "metadata": {},
   "source": [
    "So 10 cups are needed to maintain the 1% threshold whilst getting one cup wrong."
   ]
  },
  {
   "cell_type": "markdown",
   "id": "5aa9987d",
   "metadata": {},
   "source": [
    "### Sci Py:\n",
    "Use <a href=\"https://docs.scipy.org/doc/scipy/reference/generated/scipy.stats.fisher_exact.html\" style=\"color: #ff791e\">scipy's version of Fisher's exact test</a> to simulate the Lady Tasting Tea problem.\n",
    "<hr style=\"border-top: 1px solid #000000;\" />"
   ]
  },
  {
   "cell_type": "code",
   "execution_count": 81,
   "id": "a5cd794a",
   "metadata": {},
   "outputs": [],
   "source": [
    "# First, import the scipy\n",
    "import scipy.stats as ss\n",
    "import pandas as np"
   ]
  },
  {
   "cell_type": "code",
   "execution_count": 16,
   "id": "0fac01ab",
   "metadata": {},
   "outputs": [
    {
     "data": {
      "text/plain": [
       "(inf, 0.028571428571428536)"
      ]
     },
     "execution_count": 16,
     "metadata": {},
     "output_type": "execute_result"
    }
   ],
   "source": [
    "ss.fisher_exact([[4, 0], [0, 4]])"
   ]
  },
  {
   "cell_type": "markdown",
   "id": "7e4607db",
   "metadata": {},
   "source": [
    "Below is just to show that we get the same probability if we multiply by 2.<br>\n",
    "So what is the significance of the 2?"
   ]
  },
  {
   "cell_type": "code",
   "execution_count": 17,
   "id": "67b7d240",
   "metadata": {},
   "outputs": [
    {
     "data": {
      "text/plain": [
       "0.02857142857142857"
      ]
     },
     "execution_count": 17,
     "metadata": {},
     "output_type": "execute_result"
    }
   ],
   "source": [
    "0.014285714285714285 * 2"
   ]
  },
  {
   "cell_type": "markdown",
   "id": "0205786f",
   "metadata": {},
   "source": [
    "Playing around with sci py\n"
   ]
  },
  {
   "cell_type": "code",
   "execution_count": 168,
   "id": "df17cb2a",
   "metadata": {},
   "outputs": [],
   "source": [
    "table1 = ([4, 0],[0, 4])\n",
    "table2 = ([3, 1], [1, 3])\n",
    "table3 = ([2, 2],[2, 2])\n",
    "table4 = ([1, 3],[3, 1])\n",
    "table5 = ([0, 4],[4, 0])"
   ]
  },
  {
   "cell_type": "code",
   "execution_count": 169,
   "id": "39eb61d3",
   "metadata": {},
   "outputs": [],
   "source": [
    "p1 = ss.fisher_exact((table), alternative=\"two-sided\")\n",
    "p2 = ss.fisher_exact((table2), alternative=\"two-sided\")\n",
    "p3 = ss.fisher_exact((table3), alternative=\"two-sided\")\n",
    "p4 = ss.fisher_exact((table4), alternative=\"two-sided\")\n",
    "p5 = ss.fisher_exact((table5), alternative=\"two-sided\")"
   ]
  },
  {
   "cell_type": "markdown",
   "id": "dbc90e0d",
   "metadata": {},
   "source": [
    "Now we print the p-values for the tables:"
   ]
  },
  {
   "cell_type": "code",
   "execution_count": 171,
   "id": "7629c08e",
   "metadata": {},
   "outputs": [
    {
     "name": "stdout",
     "output_type": "stream",
     "text": [
      "p(5) is (0.0, 0.028571428571428536)\n",
      "p(4) is (0.1111111111111111, 0.48571428571428527)\n",
      "p(3) is (1.0, 1.0)\n",
      "p(2) is (9.0, 0.48571428571428527)\n",
      "p(1) is (9.0, 0.48571428571428527)\n"
     ]
    }
   ],
   "source": [
    "print(f'p(5) is {p5}')\n",
    "print(f'p(4) is {p4}')\n",
    "print(f'p(3) is {p3}')\n",
    "print(f'p(2) is {p2}')\n",
    "print(f'p(1) is {p1}')"
   ]
  },
  {
   "cell_type": "markdown",
   "id": "46ed1f6f",
   "metadata": {},
   "source": [
    "### A 2x2 contingency table to help illustrate the experiment\n",
    "In the sci py page, they use whales and sharks.<br>\n",
    "This table will be milk and tea. The columns on the lef are what's poured first;<br>\n",
    "the columns on the right are what's guessed first."
   ]
  },
  {
   "cell_type": "markdown",
   "id": "14c2b0a3",
   "metadata": {},
   "source": [
    "<style>\n",
    "\t\ttable {\n",
    "\t\t\tborder:1px solid #b3adad;\n",
    "\t\t\tborder-collapse:collapse;\n",
    "\t\t\tpadding:5px;\n",
    "\t\t}\n",
    "\t\ttable th {\n",
    "\t\t\tborder:1px solid #b3adad;\n",
    "\t\t\tpadding:5px;\n",
    "\t\t\tbackground: #f0f0f0;\n",
    "\t\t\tcolor: #313030;\n",
    "\t\t}\n",
    "\t\ttable td {\n",
    "\t\t\tborder:1px solid #b3adad;\n",
    "\t\t\ttext-align:center;\n",
    "\t\t\tpadding:5px;\n",
    "\t\t\tbackground: #ffffff;\n",
    "\t\t\tcolor: #313030;\n",
    "\t\t}\n",
    "\t</style>\n",
    "\n",
    "<table>\n",
    "\t\t<thead>\n",
    "\t\t\t<tr>\n",
    "\t\t\t\t<th>Poured First</th>\n",
    "\t\t\t\t<th>Guessed</th>\n",
    "\t\t\t\t<th>First</th>\n",
    "\t\t\t\t<th>Total</th>\n",
    "\t\t\t</tr>\n",
    "\t\t</thead>\n",
    "\t\t<tbody>\n",
    "\t\t\t<tr>\n",
    "\t\t\t\t<td>&nbsp;</td>\n",
    "\t\t\t\t<td>Milk&nbsp;</td>\n",
    "\t\t\t\t<td>Tea</td>\n",
    "\t\t\t\t<td>&nbsp;</td>\n",
    "\t\t\t</tr>\n",
    "\t\t\t<tr>\n",
    "\t\t\t\t<td>Milk&nbsp;</td>\n",
    "\t\t\t\t<td>4&nbsp;</td>\n",
    "\t\t\t\t<td>0&nbsp;</td>\n",
    "\t\t\t\t<td>4&nbsp;</td>\n",
    "\t\t\t</tr>\n",
    "\t\t\t<tr>\n",
    "\t\t\t\t<td>Tea&nbsp;</td>\n",
    "\t\t\t\t<td>0&nbsp;</td>\n",
    "\t\t\t\t<td>&nbsp;4</td>\n",
    "\t\t\t\t<td>4&nbsp;</td>\n",
    "\t\t\t</tr>\n",
    "\t\t\t<tr>\n",
    "\t\t\t\t<td>&nbsp;</td>\n",
    "\t\t\t\t<td>4&nbsp;</td>\n",
    "\t\t\t\t<td>4&nbsp;</td>\n",
    "\t\t\t\t<td>8&nbsp;</td>\n",
    "\t\t\t</tr>\n",
    "\t\t</tbody>\n",
    "\t</table>"
   ]
  },
  {
   "cell_type": "code",
   "execution_count": 172,
   "id": "412f5c71",
   "metadata": {},
   "outputs": [],
   "source": [
    "oddsratio1, pvalue1 = ss.fisher_exact((table1), alternative=\"greater\")\n",
    "oddsratio2, pvalue2 = ss.fisher_exact((table2), alternative=\"greater\")\n",
    "oddsratio3, pvalue3 = ss.fisher_exact((table3), alternative=\"greater\")\n",
    "oddsratio4, pvalue4 = ss.fisher_exact((table4),alternative=\"greater\")\n",
    "oddsratio5, pvalue5 = ss.fisher_exact((table5), alternative=\"greater\")"
   ]
  },
  {
   "cell_type": "markdown",
   "id": "a73588be",
   "metadata": {},
   "source": [
    "Which give the following output:"
   ]
  },
  {
   "cell_type": "code",
   "execution_count": 180,
   "id": "ad146ed6",
   "metadata": {
    "scrolled": true
   },
   "outputs": [
    {
     "name": "stdout",
     "output_type": "stream",
     "text": [
      "oddsratio1 = inf, pvalue5 = 1.0\n",
      "oddsratio2 = 9.0, pvalue4 = 0.9857142857142855\n",
      "oddsratio3 = 1.0, pvalue3 = 0.7571428571428571\n",
      "oddsratio4 = 0.1111111111111111, pvalue2 = 0.24285714285714263\n",
      "oddsratio5 = 0.0, pvalue1 = 0.014285714285714268\n"
     ]
    }
   ],
   "source": [
    "print(f'oddsratio1 = {oddsratio1}, pvalue5 = {pvalue5}')\n",
    "print(f'oddsratio2 = {oddsratio2}, pvalue4 = {pvalue4}')\n",
    "print(f'oddsratio3 = {oddsratio3}, pvalue3 = {pvalue3}')\n",
    "print(f'oddsratio4 = {oddsratio4}, pvalue2 = {pvalue2}')\n",
    "print(f'oddsratio5 = {oddsratio5}, pvalue1 = {pvalue1}')"
   ]
  },
  {
   "cell_type": "markdown",
   "id": "647c05e6",
   "metadata": {},
   "source": [
    "Just a reminder of what table 2 is:"
   ]
  },
  {
   "cell_type": "code",
   "execution_count": 181,
   "id": "3b181b14",
   "metadata": {},
   "outputs": [
    {
     "data": {
      "text/plain": [
       "([4, 0], [0, 4])"
      ]
     },
     "execution_count": 181,
     "metadata": {},
     "output_type": "execute_result"
    }
   ],
   "source": [
    "table1"
   ]
  },
  {
   "cell_type": "code",
   "execution_count": 182,
   "id": "bc652c19",
   "metadata": {},
   "outputs": [
    {
     "data": {
      "text/plain": [
       "0.014285714285714268"
      ]
     },
     "execution_count": 182,
     "metadata": {},
     "output_type": "execute_result"
    }
   ],
   "source": [
    "# And the associated probability\n",
    "pvalue1"
   ]
  },
  {
   "cell_type": "markdown",
   "id": "dc0ce7fd",
   "metadata": {},
   "source": [
    "And above we see that using table3 with sci py gives us the probability of selecting the correct 4 cups - which is what we started with at the top of the document"
   ]
  },
  {
   "cell_type": "code",
   "execution_count": 183,
   "id": "0e58f3b9",
   "metadata": {},
   "outputs": [
    {
     "data": {
      "text/plain": [
       "([0, 4], [4, 0])"
      ]
     },
     "execution_count": 183,
     "metadata": {},
     "output_type": "execute_result"
    }
   ],
   "source": [
    "table5"
   ]
  },
  {
   "cell_type": "code",
   "execution_count": 194,
   "id": "ce421e5d",
   "metadata": {},
   "outputs": [
    {
     "data": {
      "text/plain": [
       "(0.0, 1.0)"
      ]
     },
     "execution_count": 194,
     "metadata": {},
     "output_type": "execute_result"
    }
   ],
   "source": [
    "p = ss.fisher_exact((table5), alternative=\"greater\")\n",
    "p"
   ]
  },
  {
   "cell_type": "code",
   "execution_count": null,
   "id": "f0049283",
   "metadata": {},
   "outputs": [],
   "source": [
    "# Use fisher exact again, but without the \"greater\""
   ]
  },
  {
   "cell_type": "code",
   "execution_count": null,
   "id": "9f9e4387",
   "metadata": {},
   "outputs": [],
   "source": []
  },
  {
   "cell_type": "code",
   "execution_count": null,
   "id": "f92992d5",
   "metadata": {},
   "outputs": [],
   "source": []
  },
  {
   "cell_type": "markdown",
   "id": "aeca49c1",
   "metadata": {},
   "source": [
    "### Conclusion:\n",
    "If there's a probability of one, that means that it's a dead certainty and the ladies<br> \n",
    "all guessed correctly."
   ]
  },
  {
   "cell_type": "code",
   "execution_count": null,
   "id": "7c3e6452",
   "metadata": {},
   "outputs": [],
   "source": []
  },
  {
   "cell_type": "markdown",
   "id": "c2413505",
   "metadata": {},
   "source": [
    "### Exercise 1.2:\n",
    "Take the [t-test examples from the scipy documentation](https://docs.scipy.org/doc/scipy/reference/generated/scipy.stats.ttest_ind.html) and explain how it works using markdown cells and code comments."
   ]
  },
  {
   "cell_type": "markdown",
   "id": "5f312e1a",
   "metadata": {},
   "source": [
    "### Brief explanation and requirements of t-test:"
   ]
  },
  {
   "cell_type": "markdown",
   "id": "4e568026",
   "metadata": {},
   "source": [
    "**What it is:**<br>\n",
    "A test for the null hypothesis that 2 independent samples have<br>\n",
    "identical average (expected values).\n",
    "<br>\n",
    "\n",
    "**Assumptions:**<br>\n",
    "1. The t-test assumes identical variances - remember:<br>\n",
    "variance = (standard deviation)<sup>2</sup>\n",
    "2. The data to be tested has to be randomly selected\n"
   ]
  },
  {
   "cell_type": "markdown",
   "id": "6145285f",
   "metadata": {},
   "source": [
    "Import the libraries necessary for plots:"
   ]
  },
  {
   "cell_type": "code",
   "execution_count": 101,
   "id": "6e6b2bb0",
   "metadata": {},
   "outputs": [],
   "source": [
    "import seaborn as sns\n",
    "import matplotlib.pyplot as plt"
   ]
  },
  {
   "cell_type": "markdown",
   "id": "a249e028",
   "metadata": {},
   "source": [
    "**Examples from the scipy website** - A more detailed explanation and alternatives"
   ]
  },
  {
   "cell_type": "markdown",
   "id": "31cf105b",
   "metadata": {},
   "source": [
    "**Example 1:** Random number generation"
   ]
  },
  {
   "cell_type": "code",
   "execution_count": 57,
   "id": "31a765b2",
   "metadata": {},
   "outputs": [
    {
     "data": {
      "text/plain": [
       "Generator(PCG64) at 0x1F9D8A21580"
      ]
     },
     "execution_count": 57,
     "metadata": {},
     "output_type": "execute_result"
    }
   ],
   "source": [
    "# Import the scripts needed.\n",
    "from scipy import stats\n",
    "\n",
    "# Generate a random number using numpy\n",
    "# np.random.default_rng() is the default numpy method\n",
    "rng = np.random.default_rng()\n",
    "rng"
   ]
  },
  {
   "cell_type": "markdown",
   "id": "5471fe1f",
   "metadata": {},
   "source": [
    "An alternative to above is to import the Generator directly<br>\n",
    "from numpy to generate the random number, shown below:"
   ]
  },
  {
   "cell_type": "code",
   "execution_count": 43,
   "id": "653f6b70",
   "metadata": {},
   "outputs": [
    {
     "data": {
      "text/plain": [
       "Generator(PCG64) at 0x1F9D8A21900"
      ]
     },
     "execution_count": 43,
     "metadata": {},
     "output_type": "execute_result"
    }
   ],
   "source": [
    "from numpy.random import Generator, PCG64\n",
    "rng1 = Generator(PCG64())\n",
    "rng1"
   ]
  },
  {
   "cell_type": "markdown",
   "id": "6e1508b1",
   "metadata": {},
   "source": [
    "**Example 2:** Test with sample with identical means"
   ]
  },
  {
   "cell_type": "code",
   "execution_count": 90,
   "id": "dced3fcd",
   "metadata": {},
   "outputs": [
    {
     "data": {
      "text/plain": [
       "Ttest_indResult(statistic=-0.7488653906207864, pvalue=0.4541147985563462)"
      ]
     },
     "execution_count": 90,
     "metadata": {},
     "output_type": "execute_result"
    }
   ],
   "source": [
    "# Generate two random samples using the random number generator\n",
    "# Note that the sample size, etc is the same for both\n",
    "\n",
    "rvs1 = stats.norm.rvs(loc=5, scale=10, size=500, random_state=rng)\n",
    "rvs2 = stats.norm.rvs(loc=5, scale=10, size=500, random_state=rng)\n",
    "stats.ttest_ind(rvs1, rvs2)"
   ]
  },
  {
   "cell_type": "markdown",
   "id": "24a85ed8",
   "metadata": {},
   "source": [
    "Let's plot the two samples to see what they look like:"
   ]
  },
  {
   "cell_type": "code",
   "execution_count": 102,
   "id": "774ae8eb",
   "metadata": {},
   "outputs": [
    {
     "data": {
      "text/plain": [
       "Text(0.5, 1.0, 'T-Test identical sample sizes')"
      ]
     },
     "execution_count": 102,
     "metadata": {},
     "output_type": "execute_result"
    },
    {
     "data": {
      "image/png": "[encoded data removed]",
      "text/plain": [
       "<Figure size 640x480 with 1 Axes>"
      ]
     },
     "metadata": {},
     "output_type": "display_data"
    }
   ],
   "source": [
    "sns.kdeplot(rvs1, shade=True)\n",
    "sns.kdeplot(rvs2, shade=True)\n",
    "plt.title(\"T-Test identical sample sizes\")"
   ]
  },
  {
   "cell_type": "code",
   "execution_count": 89,
   "id": "817b809c",
   "metadata": {},
   "outputs": [
    {
     "data": {
      "text/plain": [
       "Ttest_indResult(statistic=1.0090113042053455, pvalue=0.3132138097856702)"
      ]
     },
     "execution_count": 89,
     "metadata": {},
     "output_type": "execute_result"
    }
   ],
   "source": [
    "# Test where the variances aren't equal.\n",
    "# In this case, Welch's t-test is used\n",
    "stats.ttest_ind(rvs1, rvs2, equal_var=False)"
   ]
  },
  {
   "cell_type": "markdown",
   "id": "dade6d88",
   "metadata": {},
   "source": [
    "An alternative way to get random data shown below:"
   ]
  },
  {
   "cell_type": "code",
   "execution_count": 91,
   "id": "e4979fc2",
   "metadata": {},
   "outputs": [],
   "source": [
    "# Import pandas\n",
    "import pandas as pd"
   ]
  },
  {
   "cell_type": "code",
   "execution_count": 92,
   "id": "e26179b8",
   "metadata": {},
   "outputs": [
    {
     "data": {
      "text/html": [
       "<div>\n",
       "<style scoped>\n",
       "    .dataframe tbody tr th:only-of-type {\n",
       "        vertical-align: middle;\n",
       "    }\n",
       "\n",
       "    .dataframe tbody tr th {\n",
       "        vertical-align: top;\n",
       "    }\n",
       "\n",
       "    .dataframe thead th {\n",
       "        text-align: right;\n",
       "    }\n",
       "</style>\n",
       "<table border=\"1\" class=\"dataframe\">\n",
       "  <thead>\n",
       "    <tr style=\"text-align: right;\">\n",
       "      <th></th>\n",
       "      <th>Category</th>\n",
       "      <th>Value</th>\n",
       "    </tr>\n",
       "  </thead>\n",
       "  <tbody>\n",
       "    <tr>\n",
       "      <th>0</th>\n",
       "      <td>A</td>\n",
       "      <td>14.158324</td>\n",
       "    </tr>\n",
       "    <tr>\n",
       "      <th>1</th>\n",
       "      <td>A</td>\n",
       "      <td>14.368772</td>\n",
       "    </tr>\n",
       "    <tr>\n",
       "      <th>2</th>\n",
       "      <td>A</td>\n",
       "      <td>9.162005</td>\n",
       "    </tr>\n",
       "    <tr>\n",
       "      <th>3</th>\n",
       "      <td>A</td>\n",
       "      <td>13.364779</td>\n",
       "    </tr>\n",
       "    <tr>\n",
       "      <th>4</th>\n",
       "      <td>A</td>\n",
       "      <td>-3.807907</td>\n",
       "    </tr>\n",
       "    <tr>\n",
       "      <th>...</th>\n",
       "      <td>...</td>\n",
       "      <td>...</td>\n",
       "    </tr>\n",
       "    <tr>\n",
       "      <th>995</th>\n",
       "      <td>B</td>\n",
       "      <td>17.316585</td>\n",
       "    </tr>\n",
       "    <tr>\n",
       "      <th>996</th>\n",
       "      <td>B</td>\n",
       "      <td>6.462433</td>\n",
       "    </tr>\n",
       "    <tr>\n",
       "      <th>997</th>\n",
       "      <td>B</td>\n",
       "      <td>8.866579</td>\n",
       "    </tr>\n",
       "    <tr>\n",
       "      <th>998</th>\n",
       "      <td>B</td>\n",
       "      <td>23.772704</td>\n",
       "    </tr>\n",
       "    <tr>\n",
       "      <th>999</th>\n",
       "      <td>B</td>\n",
       "      <td>-1.228293</td>\n",
       "    </tr>\n",
       "  </tbody>\n",
       "</table>\n",
       "<p>1000 rows × 2 columns</p>\n",
       "</div>"
      ],
      "text/plain": [
       "    Category      Value\n",
       "0          A  14.158324\n",
       "1          A  14.368772\n",
       "2          A   9.162005\n",
       "3          A  13.364779\n",
       "4          A  -3.807907\n",
       "..       ...        ...\n",
       "995        B  17.316585\n",
       "996        B   6.462433\n",
       "997        B   8.866579\n",
       "998        B  23.772704\n",
       "999        B  -1.228293\n",
       "\n",
       "[1000 rows x 2 columns]"
      ]
     },
     "execution_count": 92,
     "metadata": {},
     "output_type": "execute_result"
    }
   ],
   "source": [
    "# where a and b are substitutes for rvs1 and rvs2\n",
    "a = np.random.normal(loc=5, scale=10, size=500)\n",
    "b = np.random.normal(loc=5, scale=10, size=500)\n",
    "df = pd.DataFrame({'Category': ['A'] * len(a) + ['B'] * len(b), 'Value': np.hstack([a,b])})\n",
    "df"
   ]
  },
  {
   "cell_type": "markdown",
   "id": "2911a47d",
   "metadata": {},
   "source": [
    "Let's also plot these random samples to see what they look like:"
   ]
  },
  {
   "cell_type": "code",
   "execution_count": 104,
   "id": "99c93f37",
   "metadata": {},
   "outputs": [
    {
     "data": {
      "text/plain": [
       "Text(0.5, 1.0, 'T-Test samples generated from numpy')"
      ]
     },
     "execution_count": 104,
     "metadata": {},
     "output_type": "execute_result"
    },
    {
     "data": {
      "image/png": "[encoded data removed]",
      "text/plain": [
       "<Figure size 640x480 with 1 Axes>"
      ]
     },
     "metadata": {},
     "output_type": "display_data"
    }
   ],
   "source": [
    "sns.kdeplot(a, shade=True)\n",
    "sns.kdeplot(b, shade=True)\n",
    "plt.title(\"T-Test samples generated from numpy\")"
   ]
  },
  {
   "cell_type": "code",
   "execution_count": 103,
   "id": "f7988371",
   "metadata": {},
   "outputs": [
    {
     "data": {
      "text/plain": [
       "Ttest_indResult(statistic=0.3720305727856188, pvalue=0.7099490654172844)"
      ]
     },
     "execution_count": 103,
     "metadata": {},
     "output_type": "execute_result"
    }
   ],
   "source": [
    "# And then the t test can be performed on this data.\n",
    "stats.ttest_ind(a, b)"
   ]
  },
  {
   "cell_type": "markdown",
   "id": "c5f6e7bb",
   "metadata": {},
   "source": [
    "**Example 3:** Unequal variances: p is underestimated<br>\n",
    "<br>\n",
    "Here, we generate another random sample with the same sample size, but different scale<br>\n",
    "so that the mean isn't the same as the first sample."
   ]
  },
  {
   "cell_type": "code",
   "execution_count": 67,
   "id": "333450df",
   "metadata": {},
   "outputs": [
    {
     "data": {
      "text/plain": [
       "Ttest_indResult(statistic=0.32176614706771367, pvalue=0.7476972427258763)"
      ]
     },
     "execution_count": 67,
     "metadata": {},
     "output_type": "execute_result"
    }
   ],
   "source": [
    "rvs3 = stats.norm.rvs(loc=5, scale=20, size=500, random_state=rng)\n",
    "stats.ttest_ind(rvs1, rvs3)"
   ]
  },
  {
   "cell_type": "markdown",
   "id": "83970855",
   "metadata": {},
   "source": [
    "And we can visually compare the two samples (rvs1 and rvs3) below:"
   ]
  },
  {
   "cell_type": "code",
   "execution_count": 106,
   "id": "2ee0c868",
   "metadata": {},
   "outputs": [
    {
     "data": {
      "text/plain": [
       "Text(0.5, 1.0, 'T-Test Samples with different means')"
      ]
     },
     "execution_count": 106,
     "metadata": {},
     "output_type": "execute_result"
    },
    {
     "data": {
      "image/png": "[encoded data removed]",
      "text/plain": [
       "<Figure size 640x480 with 1 Axes>"
      ]
     },
     "metadata": {},
     "output_type": "display_data"
    }
   ],
   "source": [
    "sns.kdeplot(rvs1, shade=True)\n",
    "sns.kdeplot(rvs3, shade=True)\n",
    "plt.title(\"T-Test Samples with different means\")"
   ]
  },
  {
   "cell_type": "markdown",
   "id": "a4535703",
   "metadata": {},
   "source": [
    "Now set the equal variance flag to 'False' in the t-test:"
   ]
  },
  {
   "cell_type": "code",
   "execution_count": 68,
   "id": "62cf3755",
   "metadata": {},
   "outputs": [
    {
     "data": {
      "text/plain": [
       "Ttest_indResult(statistic=0.32176614706771367, pvalue=0.7477237296631132)"
      ]
     },
     "execution_count": 68,
     "metadata": {},
     "output_type": "execute_result"
    }
   ],
   "source": [
    "stats.ttest_ind(rvs1, rvs3, equal_var=False)"
   ]
  },
  {
   "cell_type": "markdown",
   "id": "6ba2f412",
   "metadata": {},
   "source": [
    "**Example 4:** Different sample sizes<br>\n",
    "<br>\n",
    "When n1 != n2, the equal variance t-statistic is <br>\n",
    "no longer equal to the unequal variance t-statistic "
   ]
  },
  {
   "cell_type": "code",
   "execution_count": 107,
   "id": "04cbbdc1",
   "metadata": {},
   "outputs": [
    {
     "data": {
      "text/plain": [
       "Ttest_indResult(statistic=0.4980589462504193, pvalue=0.6186256078219496)"
      ]
     },
     "execution_count": 107,
     "metadata": {},
     "output_type": "execute_result"
    }
   ],
   "source": [
    "# Generate another sample\n",
    "rvs4 = stats.norm.rvs(loc=5, scale=20, size=100, random_state=rng)\n",
    "stats.ttest_ind(rvs1, rvs4)"
   ]
  },
  {
   "cell_type": "markdown",
   "id": "5a405692",
   "metadata": {},
   "source": [
    "Once again, set the equal variance flag to 'False':"
   ]
  },
  {
   "cell_type": "code",
   "execution_count": 78,
   "id": "22a9b86b",
   "metadata": {},
   "outputs": [
    {
     "data": {
      "text/plain": [
       "Ttest_indResult(statistic=0.1758401303062732, pvalue=0.8607523243096241)"
      ]
     },
     "execution_count": 78,
     "metadata": {},
     "output_type": "execute_result"
    }
   ],
   "source": [
    "stats.ttest_ind(rvs1, rvs4, equal_var=False)"
   ]
  },
  {
   "cell_type": "markdown",
   "id": "20e328d0",
   "metadata": {},
   "source": [
    "Let's compare the two samples:"
   ]
  },
  {
   "cell_type": "code",
   "execution_count": 108,
   "id": "ccfb78ad",
   "metadata": {},
   "outputs": [
    {
     "data": {
      "text/plain": [
       "Text(0.5, 1.0, 'T-Test Samples with different sample sizes')"
      ]
     },
     "execution_count": 108,
     "metadata": {},
     "output_type": "execute_result"
    },
    {
     "data": {
      "image/png": "[encoded data removed]",
      "text/plain": [
       "<Figure size 640x480 with 1 Axes>"
      ]
     },
     "metadata": {},
     "output_type": "display_data"
    }
   ],
   "source": [
    "sns.kdeplot(rvs1, shade=True)\n",
    "sns.kdeplot(rvs4, shade=True)\n",
    "plt.title(\"T-Test Samples with different sample sizes\")"
   ]
  },
  {
   "cell_type": "markdown",
   "id": "3ae94800",
   "metadata": {},
   "source": [
    "**Example 5:** T-test with different means, variance and n<br>\n",
    "<br>\n",
    "Generate another sample with different mean, variance and n (sample size):"
   ]
  },
  {
   "cell_type": "code",
   "execution_count": 75,
   "id": "d77a708c",
   "metadata": {},
   "outputs": [
    {
     "data": {
      "text/plain": [
       "Ttest_indResult(statistic=-0.3720146898161691, pvalue=0.7100137008671364)"
      ]
     },
     "execution_count": 75,
     "metadata": {},
     "output_type": "execute_result"
    }
   ],
   "source": [
    "rvs5 = stats.norm.rvs(loc=8, scale=20, size=100, random_state=rng)\n",
    "stats.ttest_ind(rvs1, rvs5)"
   ]
  },
  {
   "cell_type": "markdown",
   "id": "e8fb6b33",
   "metadata": {},
   "source": [
    "Once again, set the equal variance flag to 'False':"
   ]
  },
  {
   "cell_type": "code",
   "execution_count": 79,
   "id": "f8ff14fa",
   "metadata": {},
   "outputs": [
    {
     "data": {
      "text/plain": [
       "Ttest_indResult(statistic=-0.22887302495933584, pvalue=0.8194052523825327)"
      ]
     },
     "execution_count": 79,
     "metadata": {},
     "output_type": "execute_result"
    }
   ],
   "source": [
    "stats.ttest_ind(rvs1, rvs5, equal_var=False)"
   ]
  },
  {
   "cell_type": "markdown",
   "id": "91cb89f0",
   "metadata": {},
   "source": [
    "Once again, a comparison of the first sample<br>\n",
    "and the sample just generated (rvs5)"
   ]
  },
  {
   "cell_type": "code",
   "execution_count": 109,
   "id": "53779050",
   "metadata": {},
   "outputs": [
    {
     "data": {
      "text/plain": [
       "Text(0.5, 1.0, 'T-Test Samples with different mean, variance and n')"
      ]
     },
     "execution_count": 109,
     "metadata": {},
     "output_type": "execute_result"
    },
    {
     "data": {
      "image/png": "[encoded data removed]",
      "text/plain": [
       "<Figure size 640x480 with 1 Axes>"
      ]
     },
     "metadata": {},
     "output_type": "display_data"
    }
   ],
   "source": [
    "sns.kdeplot(rvs1, shade=True)\n",
    "sns.kdeplot(rvs5, shade=True)\n",
    "plt.title(\"T-Test Samples with different mean, variance and n\")"
   ]
  },
  {
   "cell_type": "markdown",
   "id": "08de114e",
   "metadata": {},
   "source": [
    "**Example 6:** Permutation test<br>\n",
    "<br>\n",
    "When performing a permutation test, more permutations<br> \n",
    "typically yields more accurate results.<br>\n",
    "Use a np.random.Generator to ensure reproducibility:"
   ]
  },
  {
   "cell_type": "code",
   "execution_count": 81,
   "id": "2cb15a06",
   "metadata": {},
   "outputs": [
    {
     "data": {
      "text/plain": [
       "Ttest_indResult(statistic=-0.3720146898161691, pvalue=0.7037)"
      ]
     },
     "execution_count": 81,
     "metadata": {},
     "output_type": "execute_result"
    }
   ],
   "source": [
    "stats.ttest_ind(rvs1, rvs5, permutations=10000, random_state=rng)"
   ]
  },
  {
   "cell_type": "markdown",
   "id": "7fbe02be",
   "metadata": {},
   "source": [
    "**Example 6:** Samples with extreme tails<br>\n",
    "<br>\n",
    "Consider the two samples below, one of which has an extreme tail"
   ]
  },
  {
   "cell_type": "code",
   "execution_count": 113,
   "id": "c2b6561c",
   "metadata": {},
   "outputs": [],
   "source": [
    "a1 = (56, 128.6, 12, 123.8, 64.34, 78, 763.3)\n",
    "b1 = (1.1, 2.9, 4.2)"
   ]
  },
  {
   "cell_type": "markdown",
   "id": "8c2ce694",
   "metadata": {},
   "source": [
    "Use the trim keyword to perform a trimmed (Yuen) t-test.<br>\n",
    "For example, using 20% trimming, trim=.2, the test will<br> \n",
    "reduce the impact of one element from each tail of sample a using (np.floor(trim*len(a)).\n",
    "<br>\n",
    "It won't have any effect on sample b because np.floor(trim*len(b)) is 0.\n",
    "<br>\n",
    "Let's confirm this below:"
   ]
  },
  {
   "cell_type": "code",
   "execution_count": 114,
   "id": "83996ebe",
   "metadata": {},
   "outputs": [
    {
     "name": "stdout",
     "output_type": "stream",
     "text": [
      "a_trimmed: 1.0 \n",
      "b_trimmed: 0.0\n"
     ]
    }
   ],
   "source": [
    "# Set trim to 0.2 for 20% trimming:\n",
    "trim=.2\n",
    "\n",
    "# Trim both samples\n",
    "a_trimmed = np.floor(trim*len(a1))\n",
    "b_trimmed = np.floor(trim*len(b1))\n",
    "\n",
    "# Print the output\n",
    "print(f'a_trimmed: {a_trimmed} \\nb_trimmed: {b_trimmed}')"
   ]
  },
  {
   "cell_type": "markdown",
   "id": "839276e3",
   "metadata": {},
   "source": [
    "We can specify the trim value directly in the t-test, shown below:"
   ]
  },
  {
   "cell_type": "code",
   "execution_count": 115,
   "id": "de0750f0",
   "metadata": {
    "scrolled": true
   },
   "outputs": [
    {
     "data": {
      "text/plain": [
       "Ttest_indResult(statistic=3.4463884028073513, pvalue=0.01369338726499547)"
      ]
     },
     "execution_count": 115,
     "metadata": {},
     "output_type": "execute_result"
    }
   ],
   "source": [
    "stats.ttest_ind(a1, b1, trim=.2)"
   ]
  },
  {
   "cell_type": "markdown",
   "id": "c7d74293",
   "metadata": {},
   "source": [
    "We can compare the two samples below - Displaying them on the same plot<br>\n",
    "doesn't show us much, whereas seperately, we see more."
   ]
  },
  {
   "cell_type": "code",
   "execution_count": 140,
   "id": "2a74da9d",
   "metadata": {},
   "outputs": [
    {
     "data": {
      "text/plain": [
       "Text(0.5, 1.0, 'Sample with long tail')"
      ]
     },
     "execution_count": 140,
     "metadata": {},
     "output_type": "execute_result"
    },
    {
     "data": {
      "image/png": "[encoded data removed]",
      "text/plain": [
       "<Figure size 640x480 with 1 Axes>"
      ]
     },
     "metadata": {},
     "output_type": "display_data"
    }
   ],
   "source": [
    "sns.kdeplot(a1)\n",
    "#sns.kdeplot(b1, shade=True)\n",
    "plt.title(\"Sample with long tail\")"
   ]
  },
  {
   "cell_type": "markdown",
   "id": "3500fe24",
   "metadata": {},
   "source": [
    "As can be seen from above, including the long tail results in misrepresentation<br>\n",
    "of data."
   ]
  },
  {
   "cell_type": "code",
   "execution_count": 139,
   "id": "91333199",
   "metadata": {},
   "outputs": [
    {
     "data": {
      "text/plain": [
       "Text(0.5, 1.0, 'Uniform sample')"
      ]
     },
     "execution_count": 139,
     "metadata": {},
     "output_type": "execute_result"
    },
    {
     "data": {
      "image/png": "[encoded data removed]",
      "text/plain": [
       "<Figure size 640x480 with 1 Axes>"
      ]
     },
     "metadata": {},
     "output_type": "display_data"
    }
   ],
   "source": [
    "#sns.kdeplot(a1, shade=True)\n",
    "sns.kdeplot(b1)\n",
    "plt.title(\"Uniform sample\")"
   ]
  },
  {
   "cell_type": "markdown",
   "id": "16fff70b",
   "metadata": {},
   "source": [
    "We can see that from the sample with the long tail, i"
   ]
  },
  {
   "cell_type": "markdown",
   "id": "fd9b61b9",
   "metadata": {},
   "source": [
    "<a id=\"references\"></a>"
   ]
  },
  {
   "cell_type": "markdown",
   "id": "243b2630",
   "metadata": {},
   "source": [
    "<h3 style=\"font-weight:200\">References:</h3>\n",
    "<br>"
   ]
  },
  {
   "cell_type": "markdown",
   "id": "6e7ef994",
   "metadata": {},
   "source": [
    "1. [Ian's notebook](https://github.com/ianmcloughlin/2223-S1-machine-learn-stats/blob/main/notebooks/01-statistics.ipynb) - This notebook is based on this\n",
    "2. [The Python math module](https://docs.python.org/3/library/math.html) - Lists all the built-in methods of the Python math module with a brief explanation.\n",
    "3. [The Python math.comb() method](https://www.w3schools.com/python/ref_math_comb.asp) - Simple explanation of the math.comb() method\n",
    "4. [Official scipy documentation for t-test](https://docs.scipy.org/doc/scipy/reference/generated/scipy.stats.ttest_ind.html) - Exercise 1.2 expands on this.\n",
    "5. [Welch's t-test](https://en.wikipedia.org/wiki/Welch%27s_t-test) - Welch's t-test.                                                        "
   ]
  }
 ],
 "metadata": {
  "kernelspec": {
   "display_name": "Python 3 (ipykernel)",
   "language": "python",
   "name": "python3"
  },
  "language_info": {
   "codemirror_mode": {
    "name": "ipython",
    "version": 3
   },
   "file_extension": ".py",
   "mimetype": "text/x-python",
   "name": "python",
   "nbconvert_exporter": "python",
   "pygments_lexer": "ipython3",
   "version": "3.9.13"
  }
 },
 "nbformat": 4,
 "nbformat_minor": 5
}
