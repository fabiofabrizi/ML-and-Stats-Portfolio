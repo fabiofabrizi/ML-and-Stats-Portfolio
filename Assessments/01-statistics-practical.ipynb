{
 "cells": [
  {
   "cell_type": "markdown",
   "id": "cc47d546",
   "metadata": {},
   "source": [
    "### Exercise 1.1\n",
    "\n",
    "\n",
    "Calculate the minimum number of cups of tea required to ensure the probability of randomly selecting the correct cups is less than or equal to 1%.\n",
    "<hr style=\"border-top: 1px solid #001a79;\" />"
   ]
  },
  {
   "cell_type": "markdown",
   "id": "e4cea89a",
   "metadata": {},
   "source": [
    "A Google search for:<br>\n",
    "<br>\n",
    "\"Combinations in Python\",\n",
    "<br>\"Fisher's exact test python\" <br>\n",
    "\"Lady tasting tea python\"\n",
    "<br>\n",
    "\n",
    "gives plenty of results to look at.\n",
    "The useful ones have been documented under [References](#references)."
   ]
  },
  {
   "cell_type": "markdown",
   "id": "037e42b7",
   "metadata": {},
   "source": [
    "The following is adapted from https://stackoverflow.com/a/4941932"
   ]
  },
  {
   "cell_type": "code",
   "execution_count": 2,
   "id": "6b22849f",
   "metadata": {},
   "outputs": [],
   "source": [
    "# Math module\n",
    "import math"
   ]
  },
  {
   "cell_type": "markdown",
   "id": "adcefde3",
   "metadata": {},
   "source": [
    "math.comb(n, k) is used to select k items from n items without repetition and without order, according to the official documentation<sub>1</sub>.\n",
    "<br>\n",
    "\n",
    "Firstly, Let's consider Fisher's experiment with 4 cups from 8:"
   ]
  },
  {
   "cell_type": "markdown",
   "id": "4ccb5ef7",
   "metadata": {},
   "source": [
    "### Experiment using 4 cups from 8:\n",
    "<hr style=\"border-top: 1px solid #000000;\" />"
   ]
  },
  {
   "cell_type": "code",
   "execution_count": 3,
   "id": "a6d8baf6",
   "metadata": {},
   "outputs": [
    {
     "data": {
      "text/plain": [
       "70"
      ]
     },
     "execution_count": 3,
     "metadata": {},
     "output_type": "execute_result"
    }
   ],
   "source": [
    "# Number of ways of selecting 4 cups from 8\n",
    "math.comb(8,4)"
   ]
  },
  {
   "cell_type": "code",
   "execution_count": 21,
   "id": "68a01162",
   "metadata": {},
   "outputs": [
    {
     "data": {
      "text/plain": [
       "0.014285714285714285"
      ]
     },
     "execution_count": 21,
     "metadata": {},
     "output_type": "execute_result"
    }
   ],
   "source": [
    "# Probability of randomly selecting correct 4 cups is:\n",
    "1.0/math.comb(8,4)"
   ]
  },
  {
   "cell_type": "markdown",
   "id": "5c55dadf",
   "metadata": {},
   "source": [
    "Which is approximately 1.43%. "
   ]
  },
  {
   "cell_type": "markdown",
   "id": "3e01ff95",
   "metadata": {},
   "source": [
    "### Experiment using 5 cups from 10:\n",
    "<hr style=\"border-top: 1px solid #000000;\" />"
   ]
  },
  {
   "cell_type": "code",
   "execution_count": 4,
   "id": "b7ac1063",
   "metadata": {},
   "outputs": [
    {
     "data": {
      "text/plain": [
       "252"
      ]
     },
     "execution_count": 4,
     "metadata": {},
     "output_type": "execute_result"
    }
   ],
   "source": [
    "# Number of ways of selecting 5 cups from 10.\n",
    "math.comb(10, 5)"
   ]
  },
  {
   "cell_type": "code",
   "execution_count": 29,
   "id": "3ded129e",
   "metadata": {},
   "outputs": [
    {
     "data": {
      "text/plain": [
       "0.003968253968253968"
      ]
     },
     "execution_count": 29,
     "metadata": {},
     "output_type": "execute_result"
    }
   ],
   "source": [
    "# Probability of randomly selecting correct 5 cups is:\n",
    "1.0/math.comb(10, 5)"
   ]
  },
  {
   "cell_type": "markdown",
   "id": "b5e4c673",
   "metadata": {},
   "source": [
    "Which is approximately 0.4%"
   ]
  },
  {
   "cell_type": "markdown",
   "id": "d9dc26ca",
   "metadata": {},
   "source": [
    "So, if the experiment was done with 10 cups total, five with milk in first and five with tea in first, then the chance of sleecting correctly randomly is much less than 1% "
   ]
  },
  {
   "cell_type": "markdown",
   "id": "343ab2da",
   "metadata": {},
   "source": [
    "### Experiment using 4 cups from 9:\n",
    "<hr style=\"border-top: 1px solid #000000;\" />"
   ]
  },
  {
   "cell_type": "markdown",
   "id": "1fabecc5",
   "metadata": {},
   "source": [
    "We could design the experiment to have 9 cups in total, 4 with milk in first and five with tea in first, or vice versa."
   ]
  },
  {
   "cell_type": "code",
   "execution_count": 8,
   "id": "47069a47",
   "metadata": {},
   "outputs": [
    {
     "data": {
      "text/plain": [
       "126"
      ]
     },
     "execution_count": 8,
     "metadata": {},
     "output_type": "execute_result"
    }
   ],
   "source": [
    "# Number of ways of selecting 4 cups from 9\n",
    "math.comb(9,4)"
   ]
  },
  {
   "cell_type": "code",
   "execution_count": 9,
   "id": "ea4ce5f0",
   "metadata": {},
   "outputs": [
    {
     "data": {
      "text/plain": [
       "0.007936507936507936"
      ]
     },
     "execution_count": 9,
     "metadata": {},
     "output_type": "execute_result"
    }
   ],
   "source": [
    "# The probability is then:\n",
    "1.0/math.comb(9,4)"
   ]
  },
  {
   "cell_type": "markdown",
   "id": "6fee4524",
   "metadata": {},
   "source": [
    "This is approximately 0.8%."
   ]
  },
  {
   "cell_type": "markdown",
   "id": "2eed83b8",
   "metadata": {},
   "source": [
    "### Experiment using 5 cups from 9:\n",
    "<hr style=\"border-top: 1px solid #000000;\" />"
   ]
  },
  {
   "cell_type": "code",
   "execution_count": 11,
   "id": "051b4152",
   "metadata": {},
   "outputs": [
    {
     "data": {
      "text/plain": [
       "126"
      ]
     },
     "execution_count": 11,
     "metadata": {},
     "output_type": "execute_result"
    }
   ],
   "source": [
    "# Note the number of ways of selecting 5 cups from 9:\n",
    "math.comb(9, 5)"
   ]
  },
  {
   "cell_type": "code",
   "execution_count": 24,
   "id": "0c867594",
   "metadata": {},
   "outputs": [
    {
     "data": {
      "text/plain": [
       "0.007936507936507936"
      ]
     },
     "execution_count": 24,
     "metadata": {},
     "output_type": "execute_result"
    }
   ],
   "source": [
    "# The probability is then:\n",
    "1.0/math.comb(9, 5)"
   ]
  },
  {
   "cell_type": "markdown",
   "id": "e51a82c9",
   "metadata": {},
   "source": [
    "Also approximately 0.8%. This is because the number of ways doesn't change."
   ]
  },
  {
   "cell_type": "markdown",
   "id": "85b7714b",
   "metadata": {},
   "source": [
    "### Experiment using 6 cups from 12:\n",
    "<hr style=\"border-top: 1px solid #000000;\" />"
   ]
  },
  {
   "cell_type": "code",
   "execution_count": 26,
   "id": "6ecf0825",
   "metadata": {},
   "outputs": [
    {
     "data": {
      "text/plain": [
       "924"
      ]
     },
     "execution_count": 26,
     "metadata": {},
     "output_type": "execute_result"
    }
   ],
   "source": [
    "math.comb(12,6)"
   ]
  },
  {
   "cell_type": "code",
   "execution_count": 27,
   "id": "bc5355d1",
   "metadata": {},
   "outputs": [
    {
     "data": {
      "text/plain": [
       "0.0010822510822510823"
      ]
     },
     "execution_count": 27,
     "metadata": {},
     "output_type": "execute_result"
    }
   ],
   "source": [
    "1.0/math.comb(12,6)"
   ]
  },
  {
   "cell_type": "markdown",
   "id": "97f68368",
   "metadata": {},
   "source": [
    "Which gives approximately 0.1%."
   ]
  },
  {
   "cell_type": "markdown",
   "id": "d179f6a6",
   "metadata": {},
   "source": [
    "### Conclusion:\n",
    "<hr style=\"border-top: 1px solid #000000;\" />"
   ]
  },
  {
   "cell_type": "markdown",
   "id": "9265eb5f",
   "metadata": {},
   "source": [
    "As the number of cups increase, the probability of choosing the correct cups decrease. \n",
    "Therefore, the minimum cups of tea that gives a probability close to 1% is 9 cups."
   ]
  },
  {
   "cell_type": "code",
   "execution_count": null,
   "id": "a4877e6b",
   "metadata": {},
   "outputs": [],
   "source": []
  },
  {
   "cell_type": "markdown",
   "id": "b64606f9",
   "metadata": {},
   "source": [
    "### Bonus Question:\n",
    "How many would be required if you were to let the taster \n",
    "get one cup wrong while maintaining the 1% threshold?\n",
    "<hr style=\"border-top: 1px solid #000000;\" />\n",
    "\n",
    "    "
   ]
  },
  {
   "cell_type": "markdown",
   "id": "b3d8097e",
   "metadata": {},
   "source": [
    "If I understand correctly:\n",
    "Probability = (num of desired outcomes)/(total num of possible outcomes)\n",
    "So if one cup is wrong, that must be that 3 cups must be right."
   ]
  },
  {
   "cell_type": "markdown",
   "id": "42fe83c5",
   "metadata": {},
   "source": [
    "For 3 cups out of 8:"
   ]
  },
  {
   "cell_type": "code",
   "execution_count": 98,
   "id": "0fb31da6",
   "metadata": {},
   "outputs": [
    {
     "data": {
      "text/plain": [
       "0.017857142857142856"
      ]
     },
     "execution_count": 98,
     "metadata": {},
     "output_type": "execute_result"
    }
   ],
   "source": [
    "# Probability of randomly selecting 3 correct cups is:\n",
    "1.0/math.comb(8,3)"
   ]
  },
  {
   "cell_type": "markdown",
   "id": "396716f0",
   "metadata": {},
   "source": [
    "Probability of randomly selecting 3 cups out of 9:"
   ]
  },
  {
   "cell_type": "code",
   "execution_count": 50,
   "id": "37753425",
   "metadata": {},
   "outputs": [
    {
     "data": {
      "text/plain": [
       "0.011904761904761904"
      ]
     },
     "execution_count": 50,
     "metadata": {},
     "output_type": "execute_result"
    }
   ],
   "source": [
    "1.0/math.comb(9,3)"
   ]
  },
  {
   "cell_type": "markdown",
   "id": "42d4fae6",
   "metadata": {},
   "source": [
    "For 3 cups out of 10:"
   ]
  },
  {
   "cell_type": "code",
   "execution_count": 52,
   "id": "85aea9e3",
   "metadata": {},
   "outputs": [
    {
     "data": {
      "text/plain": [
       "0.008333333333333333"
      ]
     },
     "execution_count": 52,
     "metadata": {},
     "output_type": "execute_result"
    }
   ],
   "source": [
    "1.0/math.comb(10,3)"
   ]
  },
  {
   "cell_type": "markdown",
   "id": "c3fa3a59",
   "metadata": {},
   "source": [
    "So 10 cups are needed to maintain the 1% threshold whilst getting one cup wrong."
   ]
  },
  {
   "cell_type": "markdown",
   "id": "5aa9987d",
   "metadata": {},
   "source": [
    "### Sci Py:\n",
    "Use <a href=\"https://docs.scipy.org/doc/scipy/reference/generated/scipy.stats.fisher_exact.html\" style=\"color: #ff791e\">scipy's version of Fisher's exact test</a> to simulate the Lady Tasting Tea problem.\n",
    "<hr style=\"border-top: 1px solid #000000;\" />"
   ]
  },
  {
   "cell_type": "code",
   "execution_count": 81,
   "id": "a5cd794a",
   "metadata": {},
   "outputs": [],
   "source": [
    "# First, import the scipy\n",
    "import scipy.stats as ss\n",
    "import pandas as np"
   ]
  },
  {
   "cell_type": "code",
   "execution_count": 16,
   "id": "0fac01ab",
   "metadata": {},
   "outputs": [
    {
     "data": {
      "text/plain": [
       "(inf, 0.028571428571428536)"
      ]
     },
     "execution_count": 16,
     "metadata": {},
     "output_type": "execute_result"
    }
   ],
   "source": [
    "ss.fisher_exact([[4, 0], [0, 4]])"
   ]
  },
  {
   "cell_type": "markdown",
   "id": "7e4607db",
   "metadata": {},
   "source": [
    "Below is just to show that we get the same probability if we multiply by 2.<br>\n",
    "So what is the significance of the 2?"
   ]
  },
  {
   "cell_type": "code",
   "execution_count": 17,
   "id": "67b7d240",
   "metadata": {},
   "outputs": [
    {
     "data": {
      "text/plain": [
       "0.02857142857142857"
      ]
     },
     "execution_count": 17,
     "metadata": {},
     "output_type": "execute_result"
    }
   ],
   "source": [
    "0.014285714285714285 * 2"
   ]
  },
  {
   "cell_type": "markdown",
   "id": "0205786f",
   "metadata": {},
   "source": [
    "Playing around with sci py\n"
   ]
  },
  {
   "cell_type": "code",
   "execution_count": 168,
   "id": "df17cb2a",
   "metadata": {},
   "outputs": [],
   "source": [
    "table1 = ([4, 0],[0, 4])\n",
    "table2 = ([3, 1], [1, 3])\n",
    "table3 = ([2, 2],[2, 2])\n",
    "table4 = ([1, 3],[3, 1])\n",
    "table5 = ([0, 4],[4, 0])"
   ]
  },
  {
   "cell_type": "code",
   "execution_count": 169,
   "id": "39eb61d3",
   "metadata": {},
   "outputs": [],
   "source": [
    "p1 = ss.fisher_exact((table), alternative=\"two-sided\")\n",
    "p2 = ss.fisher_exact((table2), alternative=\"two-sided\")\n",
    "p3 = ss.fisher_exact((table3), alternative=\"two-sided\")\n",
    "p4 = ss.fisher_exact((table4), alternative=\"two-sided\")\n",
    "p5 = ss.fisher_exact((table5), alternative=\"two-sided\")"
   ]
  },
  {
   "cell_type": "markdown",
   "id": "dbc90e0d",
   "metadata": {},
   "source": [
    "Now we print the p-values for the tables:"
   ]
  },
  {
   "cell_type": "code",
   "execution_count": 171,
   "id": "7629c08e",
   "metadata": {},
   "outputs": [
    {
     "name": "stdout",
     "output_type": "stream",
     "text": [
      "p(5) is (0.0, 0.028571428571428536)\n",
      "p(4) is (0.1111111111111111, 0.48571428571428527)\n",
      "p(3) is (1.0, 1.0)\n",
      "p(2) is (9.0, 0.48571428571428527)\n",
      "p(1) is (9.0, 0.48571428571428527)\n"
     ]
    }
   ],
   "source": [
    "print(f'p(5) is {p5}')\n",
    "print(f'p(4) is {p4}')\n",
    "print(f'p(3) is {p3}')\n",
    "print(f'p(2) is {p2}')\n",
    "print(f'p(1) is {p1}')"
   ]
  },
  {
   "cell_type": "markdown",
   "id": "46ed1f6f",
   "metadata": {},
   "source": [
    "### A 2x2 contingency table to help illustrate the experiment\n",
    "In the sci py page, they use whales and sharks.<br>\n",
    "This table will be milk and tea. The columns on the lef are what's poured first;<br>\n",
    "the columns on the right are what's guessed first."
   ]
  },
  {
   "cell_type": "markdown",
   "id": "14c2b0a3",
   "metadata": {},
   "source": [
    "<style>\n",
    "\t\ttable {\n",
    "\t\t\tborder:1px solid #b3adad;\n",
    "\t\t\tborder-collapse:collapse;\n",
    "\t\t\tpadding:5px;\n",
    "\t\t}\n",
    "\t\ttable th {\n",
    "\t\t\tborder:1px solid #b3adad;\n",
    "\t\t\tpadding:5px;\n",
    "\t\t\tbackground: #f0f0f0;\n",
    "\t\t\tcolor: #313030;\n",
    "\t\t}\n",
    "\t\ttable td {\n",
    "\t\t\tborder:1px solid #b3adad;\n",
    "\t\t\ttext-align:center;\n",
    "\t\t\tpadding:5px;\n",
    "\t\t\tbackground: #ffffff;\n",
    "\t\t\tcolor: #313030;\n",
    "\t\t}\n",
    "\t</style>\n",
    "\n",
    "<table>\n",
    "\t\t<thead>\n",
    "\t\t\t<tr>\n",
    "\t\t\t\t<th>Poured First</th>\n",
    "\t\t\t\t<th>Guessed</th>\n",
    "\t\t\t\t<th>First</th>\n",
    "\t\t\t\t<th>Total</th>\n",
    "\t\t\t</tr>\n",
    "\t\t</thead>\n",
    "\t\t<tbody>\n",
    "\t\t\t<tr>\n",
    "\t\t\t\t<td>&nbsp;</td>\n",
    "\t\t\t\t<td>Milk&nbsp;</td>\n",
    "\t\t\t\t<td>Tea</td>\n",
    "\t\t\t\t<td>&nbsp;</td>\n",
    "\t\t\t</tr>\n",
    "\t\t\t<tr>\n",
    "\t\t\t\t<td>Milk&nbsp;</td>\n",
    "\t\t\t\t<td>4&nbsp;</td>\n",
    "\t\t\t\t<td>0&nbsp;</td>\n",
    "\t\t\t\t<td>4&nbsp;</td>\n",
    "\t\t\t</tr>\n",
    "\t\t\t<tr>\n",
    "\t\t\t\t<td>Tea&nbsp;</td>\n",
    "\t\t\t\t<td>0&nbsp;</td>\n",
    "\t\t\t\t<td>&nbsp;4</td>\n",
    "\t\t\t\t<td>4&nbsp;</td>\n",
    "\t\t\t</tr>\n",
    "\t\t\t<tr>\n",
    "\t\t\t\t<td>&nbsp;</td>\n",
    "\t\t\t\t<td>4&nbsp;</td>\n",
    "\t\t\t\t<td>4&nbsp;</td>\n",
    "\t\t\t\t<td>8&nbsp;</td>\n",
    "\t\t\t</tr>\n",
    "\t\t</tbody>\n",
    "\t</table>"
   ]
  },
  {
   "cell_type": "code",
   "execution_count": 172,
   "id": "412f5c71",
   "metadata": {},
   "outputs": [],
   "source": [
    "oddsratio1, pvalue1 = ss.fisher_exact((table1), alternative=\"greater\")\n",
    "oddsratio2, pvalue2 = ss.fisher_exact((table2), alternative=\"greater\")\n",
    "oddsratio3, pvalue3 = ss.fisher_exact((table3), alternative=\"greater\")\n",
    "oddsratio4, pvalue4 = ss.fisher_exact((table4),alternative=\"greater\")\n",
    "oddsratio5, pvalue5 = ss.fisher_exact((table5), alternative=\"greater\")"
   ]
  },
  {
   "cell_type": "markdown",
   "id": "a73588be",
   "metadata": {},
   "source": [
    "Which give the following output:"
   ]
  },
  {
   "cell_type": "code",
   "execution_count": 180,
   "id": "ad146ed6",
   "metadata": {
    "scrolled": true
   },
   "outputs": [
    {
     "name": "stdout",
     "output_type": "stream",
     "text": [
      "oddsratio1 = inf, pvalue5 = 1.0\n",
      "oddsratio2 = 9.0, pvalue4 = 0.9857142857142855\n",
      "oddsratio3 = 1.0, pvalue3 = 0.7571428571428571\n",
      "oddsratio4 = 0.1111111111111111, pvalue2 = 0.24285714285714263\n",
      "oddsratio5 = 0.0, pvalue1 = 0.014285714285714268\n"
     ]
    }
   ],
   "source": [
    "print(f'oddsratio1 = {oddsratio1}, pvalue5 = {pvalue5}')\n",
    "print(f'oddsratio2 = {oddsratio2}, pvalue4 = {pvalue4}')\n",
    "print(f'oddsratio3 = {oddsratio3}, pvalue3 = {pvalue3}')\n",
    "print(f'oddsratio4 = {oddsratio4}, pvalue2 = {pvalue2}')\n",
    "print(f'oddsratio5 = {oddsratio5}, pvalue1 = {pvalue1}')"
   ]
  },
  {
   "cell_type": "markdown",
   "id": "647c05e6",
   "metadata": {},
   "source": [
    "Just a reminder of what table 2 is:"
   ]
  },
  {
   "cell_type": "code",
   "execution_count": 181,
   "id": "3b181b14",
   "metadata": {},
   "outputs": [
    {
     "data": {
      "text/plain": [
       "([4, 0], [0, 4])"
      ]
     },
     "execution_count": 181,
     "metadata": {},
     "output_type": "execute_result"
    }
   ],
   "source": [
    "table1"
   ]
  },
  {
   "cell_type": "code",
   "execution_count": 182,
   "id": "bc652c19",
   "metadata": {},
   "outputs": [
    {
     "data": {
      "text/plain": [
       "0.014285714285714268"
      ]
     },
     "execution_count": 182,
     "metadata": {},
     "output_type": "execute_result"
    }
   ],
   "source": [
    "# And the associated probability\n",
    "pvalue1"
   ]
  },
  {
   "cell_type": "markdown",
   "id": "dc0ce7fd",
   "metadata": {},
   "source": [
    "And above we see that using table3 with sci py gives us the probability of selecting the correct 4 cups - which is what we started with at the top of the document"
   ]
  },
  {
   "cell_type": "code",
   "execution_count": 183,
   "id": "0e58f3b9",
   "metadata": {},
   "outputs": [
    {
     "data": {
      "text/plain": [
       "([0, 4], [4, 0])"
      ]
     },
     "execution_count": 183,
     "metadata": {},
     "output_type": "execute_result"
    }
   ],
   "source": [
    "table5"
   ]
  },
  {
   "cell_type": "code",
   "execution_count": 194,
   "id": "ce421e5d",
   "metadata": {},
   "outputs": [
    {
     "data": {
      "text/plain": [
       "(0.0, 1.0)"
      ]
     },
     "execution_count": 194,
     "metadata": {},
     "output_type": "execute_result"
    }
   ],
   "source": [
    "p = ss.fisher_exact((table5), alternative=\"greater\")\n",
    "p"
   ]
  },
  {
   "cell_type": "code",
   "execution_count": null,
   "id": "f0049283",
   "metadata": {},
   "outputs": [],
   "source": [
    "# Use fisher exact again, but without the \"greater\""
   ]
  },
  {
   "cell_type": "code",
   "execution_count": null,
   "id": "9f9e4387",
   "metadata": {},
   "outputs": [],
   "source": []
  },
  {
   "cell_type": "code",
   "execution_count": null,
   "id": "f92992d5",
   "metadata": {},
   "outputs": [],
   "source": []
  },
  {
   "cell_type": "markdown",
   "id": "aeca49c1",
   "metadata": {},
   "source": [
    "### Conclusion:\n",
    "If there's a probability of one, that means that it's a dead certainty and the ladies<br> \n",
    "all guessed correctly."
   ]
  },
  {
   "cell_type": "markdown",
   "id": "fd9b61b9",
   "metadata": {},
   "source": [
    "<a id=\"references\"></a>"
   ]
  },
  {
   "cell_type": "markdown",
   "id": "243b2630",
   "metadata": {},
   "source": [
    "<h3 style=\"font-weight:200\">References:</h3>\n",
    "<br>"
   ]
  },
  {
   "cell_type": "markdown",
   "id": "6e7ef994",
   "metadata": {},
   "source": [
    "1. [Ian's notebook](https://github.com/ianmcloughlin/2223-S1-machine-learn-stats/blob/main/notebooks/01-statistics.ipynb) - This notebook is based on this\n",
    "2. [The Python math module](https://docs.python.org/3/library/math.html) - Lists all the built-in methods of the Python math module with a brief explanation.\n",
    "3. [The Python math.comb() method](https://www.w3schools.com/python/ref_math_comb.asp) - Simple explanation of the math.comb() method\n",
    "\n",
    "                                                        "
   ]
  }
 ],
 "metadata": {
  "kernelspec": {
   "display_name": "Python 3 (ipykernel)",
   "language": "python",
   "name": "python3"
  },
  "language_info": {
   "codemirror_mode": {
    "name": "ipython",
    "version": 3
   },
   "file_extension": ".py",
   "mimetype": "text/x-python",
   "name": "python",
   "nbconvert_exporter": "python",
   "pygments_lexer": "ipython3",
   "version": "3.9.13"
  }
 },
 "nbformat": 4,
 "nbformat_minor": 5
}
