{
 "cells": [
  {
   "cell_type": "markdown",
   "id": "75ae912a",
   "metadata": {},
   "source": [
    "<h3 style=\"letter-spacing:1px;\">Exercise 1.1</h3>\n",
    "\n",
    "\n",
    "Calculate the minimum number of cups of tea required to ensure the probability of randomly selecting the correct cups is less than or equal to 1%.\n",
    "<hr style=\"border-top: 1px solid #001a79;\" />"
   ]
  },
  {
   "cell_type": "markdown",
   "id": "3db3daae",
   "metadata": {},
   "source": [
    "A Google search for:<br>\n",
    "<br>\n",
    "\"Combinations in Python\",\n",
    "<br>\"Fisher's exact test python\" <br>\n",
    "\"Lady tasting tea python\"\n",
    "<br>\n",
    "\n",
    "gives plenty of results to look at.\n",
    "The useful ones have been documented under [References](#references)."
   ]
  },
  {
   "cell_type": "markdown",
   "id": "2ad12256",
   "metadata": {},
   "source": [
    "The following is adapted from https://stackoverflow.com/a/4941932"
   ]
  },
  {
   "cell_type": "code",
   "execution_count": 2,
   "id": "2648d860",
   "metadata": {},
   "outputs": [],
   "source": [
    "# Math module\n",
    "import math"
   ]
  },
  {
   "cell_type": "markdown",
   "id": "d77f10d9",
   "metadata": {},
   "source": [
    "math.comb(n, k) is used to select k items from n items without repetition and without order, according to the official documentation<sub>1</sub>.\n",
    "<br>\n",
    "\n",
    "Firstly, Let's consider Fisher's experiment with 4 cups from 8:"
   ]
  },
  {
   "cell_type": "markdown",
   "id": "9102856f",
   "metadata": {},
   "source": [
    "### Experiment using 4 cups from 8:\n",
    "<hr style=\"border-top: 1px solid #000000;\" />"
   ]
  },
  {
   "cell_type": "code",
   "execution_count": 3,
   "id": "2fff9944",
   "metadata": {},
   "outputs": [
    {
     "data": {
      "text/plain": [
       "70"
      ]
     },
     "execution_count": 3,
     "metadata": {},
     "output_type": "execute_result"
    }
   ],
   "source": [
    "# Number of ways of selecting 4 cups from 8\n",
    "math.comb(8,4)"
   ]
  },
  {
   "cell_type": "code",
   "execution_count": 21,
   "id": "64326d33",
   "metadata": {},
   "outputs": [
    {
     "data": {
      "text/plain": [
       "0.014285714285714285"
      ]
     },
     "execution_count": 21,
     "metadata": {},
     "output_type": "execute_result"
    }
   ],
   "source": [
    "# Probability of randomly selecting correct 4 cups is:\n",
    "1.0/math.comb(8,4)"
   ]
  },
  {
   "cell_type": "markdown",
   "id": "a2a7f555",
   "metadata": {},
   "source": [
    "Which is approximately 1.43%. "
   ]
  },
  {
   "cell_type": "markdown",
   "id": "197bb9b3",
   "metadata": {},
   "source": [
    "### Experiment using 5 cups from 10:\n",
    "<hr style=\"border-top: 1px solid #000000;\" />"
   ]
  },
  {
   "cell_type": "code",
   "execution_count": 4,
   "id": "c801a1d5",
   "metadata": {},
   "outputs": [
    {
     "data": {
      "text/plain": [
       "252"
      ]
     },
     "execution_count": 4,
     "metadata": {},
     "output_type": "execute_result"
    }
   ],
   "source": [
    "# Number of ways of selecting 5 cups from 10.\n",
    "math.comb(10, 5)"
   ]
  },
  {
   "cell_type": "code",
   "execution_count": 29,
   "id": "2c9648eb",
   "metadata": {},
   "outputs": [
    {
     "data": {
      "text/plain": [
       "0.003968253968253968"
      ]
     },
     "execution_count": 29,
     "metadata": {},
     "output_type": "execute_result"
    }
   ],
   "source": [
    "# Probability of randomly selecting correct 5 cups is:\n",
    "1.0/math.comb(10, 5)"
   ]
  },
  {
   "cell_type": "markdown",
   "id": "85a5448e",
   "metadata": {},
   "source": [
    "Which is approximately 0.4%"
   ]
  },
  {
   "cell_type": "markdown",
   "id": "ae7da024",
   "metadata": {},
   "source": [
    "So, if the experiment was done with 10 cups total, five with milk in first and five with tea in first, then the chance of sleecting correctly randomly is much less than 1% "
   ]
  },
  {
   "cell_type": "markdown",
   "id": "62058536",
   "metadata": {},
   "source": [
    "### Experiment using 4 cups from 9:\n",
    "<hr style=\"border-top: 1px solid #000000;\" />"
   ]
  },
  {
   "cell_type": "markdown",
   "id": "29535632",
   "metadata": {},
   "source": [
    "We could design the experiment to have 9 cups in total, 4 with milk in first and five with tea in first, or vice versa."
   ]
  },
  {
   "cell_type": "code",
   "execution_count": 8,
   "id": "36511f54",
   "metadata": {},
   "outputs": [
    {
     "data": {
      "text/plain": [
       "126"
      ]
     },
     "execution_count": 8,
     "metadata": {},
     "output_type": "execute_result"
    }
   ],
   "source": [
    "# Number of ways of selecting 4 cups from 9\n",
    "math.comb(9,4)"
   ]
  },
  {
   "cell_type": "code",
   "execution_count": 9,
   "id": "6cdcc30c",
   "metadata": {},
   "outputs": [
    {
     "data": {
      "text/plain": [
       "0.007936507936507936"
      ]
     },
     "execution_count": 9,
     "metadata": {},
     "output_type": "execute_result"
    }
   ],
   "source": [
    "# The probability is then:\n",
    "1.0/math.comb(9,4)"
   ]
  },
  {
   "cell_type": "markdown",
   "id": "9be11722",
   "metadata": {},
   "source": [
    "This is approximately 0.8%."
   ]
  },
  {
   "cell_type": "markdown",
   "id": "55cd9ee7",
   "metadata": {},
   "source": [
    "### Experiment using 5 cups from 9:\n",
    "<hr style=\"border-top: 1px solid #000000;\" />"
   ]
  },
  {
   "cell_type": "code",
   "execution_count": 11,
   "id": "44e815d0",
   "metadata": {},
   "outputs": [
    {
     "data": {
      "text/plain": [
       "126"
      ]
     },
     "execution_count": 11,
     "metadata": {},
     "output_type": "execute_result"
    }
   ],
   "source": [
    "# Note the number of ways of selecting 5 cups from 9:\n",
    "math.comb(9, 5)"
   ]
  },
  {
   "cell_type": "code",
   "execution_count": 24,
   "id": "cd883f6a",
   "metadata": {},
   "outputs": [
    {
     "data": {
      "text/plain": [
       "0.007936507936507936"
      ]
     },
     "execution_count": 24,
     "metadata": {},
     "output_type": "execute_result"
    }
   ],
   "source": [
    "# The probability is then:\n",
    "1.0/math.comb(9, 5)"
   ]
  },
  {
   "cell_type": "markdown",
   "id": "f9d292fe",
   "metadata": {},
   "source": [
    "Also approximately 0.8%. This is because the number of ways doesn't change."
   ]
  },
  {
   "cell_type": "markdown",
   "id": "e4b934fe",
   "metadata": {},
   "source": [
    "### Experiment using 6 cups from 12:\n",
    "<hr style=\"border-top: 1px solid #000000;\" />"
   ]
  },
  {
   "cell_type": "code",
   "execution_count": 26,
   "id": "15385481",
   "metadata": {},
   "outputs": [
    {
     "data": {
      "text/plain": [
       "924"
      ]
     },
     "execution_count": 26,
     "metadata": {},
     "output_type": "execute_result"
    }
   ],
   "source": [
    "math.comb(12,6)"
   ]
  },
  {
   "cell_type": "code",
   "execution_count": 27,
   "id": "09da49be",
   "metadata": {},
   "outputs": [
    {
     "data": {
      "text/plain": [
       "0.0010822510822510823"
      ]
     },
     "execution_count": 27,
     "metadata": {},
     "output_type": "execute_result"
    }
   ],
   "source": [
    "1.0/math.comb(12,6)"
   ]
  },
  {
   "cell_type": "markdown",
   "id": "c62c4083",
   "metadata": {},
   "source": [
    "Which gives approximately 0.1%."
   ]
  },
  {
   "cell_type": "markdown",
   "id": "2513db44",
   "metadata": {},
   "source": [
    "### Conclusion:\n",
    "<hr style=\"border-top: 1px solid #000000;\" />"
   ]
  },
  {
   "cell_type": "markdown",
   "id": "ca24c649",
   "metadata": {},
   "source": [
    "As the number of cups increase, the probability of choosing the correct cups decrease. \n",
    "Therefore, the nu"
   ]
  },
  {
   "cell_type": "markdown",
   "id": "9c6e3aa2",
   "metadata": {},
   "source": [
    "*Bonus:* How many would be required if you were to let the taster \n",
    "get one cup wrong while maintaining the 1% threshold?\n",
    "    "
   ]
  },
  {
   "cell_type": "code",
   "execution_count": null,
   "id": "516eecd5",
   "metadata": {},
   "outputs": [],
   "source": []
  },
  {
   "cell_type": "code",
   "execution_count": null,
   "id": "542f714a",
   "metadata": {},
   "outputs": [],
   "source": []
  },
  {
   "cell_type": "code",
   "execution_count": null,
   "id": "4d527905",
   "metadata": {},
   "outputs": [],
   "source": []
  },
  {
   "cell_type": "markdown",
   "id": "297002ad",
   "metadata": {},
   "source": [
    "Use <a href=\"https://docs.scipy.org/doc/scipy/reference/generated/scipy.stats.fisher_exact.html\" style=\"color: #ff791e\">scipy's version of Fisher's exact test</a> to simulate the Lady Tasting Tea problem."
   ]
  },
  {
   "cell_type": "code",
   "execution_count": 13,
   "id": "46a6c867",
   "metadata": {},
   "outputs": [],
   "source": [
    "# First, import the scipy\n",
    "import scipy.stats as ss"
   ]
  },
  {
   "cell_type": "code",
   "execution_count": 16,
   "id": "b0d97bed",
   "metadata": {},
   "outputs": [
    {
     "data": {
      "text/plain": [
       "(inf, 0.028571428571428536)"
      ]
     },
     "execution_count": 16,
     "metadata": {},
     "output_type": "execute_result"
    }
   ],
   "source": [
    "ss.fisher_exact([[4, 0], [0, 4]])"
   ]
  },
  {
   "cell_type": "code",
   "execution_count": 17,
   "id": "07b81001",
   "metadata": {},
   "outputs": [
    {
     "data": {
      "text/plain": [
       "0.02857142857142857"
      ]
     },
     "execution_count": 17,
     "metadata": {},
     "output_type": "execute_result"
    }
   ],
   "source": [
    "0.014285714285714285 * 2"
   ]
  },
  {
   "cell_type": "markdown",
   "id": "14420c5a",
   "metadata": {},
   "source": [
    "<a id=\"references\"></a>"
   ]
  },
  {
   "cell_type": "markdown",
   "id": "0ce4d048",
   "metadata": {},
   "source": [
    "<h3 style=\"font-weight:200\">References:</h3>\n",
    "<br>"
   ]
  },
  {
   "cell_type": "markdown",
   "id": "d1ae0a9c",
   "metadata": {},
   "source": [
    "1. [The Python math module](https://docs.python.org/3/library/math.html) - Lists all the built-in methods of the Python math module with a brief explanation.\n",
    "2. [The Python math.comb() method](https://www.w3schools.com/python/ref_math_comb.asp) - Simple explanation of the math.comb() method\n",
    "\n",
    "                                                        "
   ]
  }
 ],
 "metadata": {
  "kernelspec": {
   "display_name": "Python 3 (ipykernel)",
   "language": "python",
   "name": "python3"
  },
  "language_info": {
   "codemirror_mode": {
    "name": "ipython",
    "version": 3
   },
   "file_extension": ".py",
   "mimetype": "text/x-python",
   "name": "python",
   "nbconvert_exporter": "python",
   "pygments_lexer": "ipython3",
   "version": "3.9.13"
  }
 },
 "nbformat": 4,
 "nbformat_minor": 5
}
