{
 "cells": [
  {
   "cell_type": "markdown",
   "id": "672bae35",
   "metadata": {},
   "source": [
    "## 'Machine Learning and Statistics' module project, ATU<br>Semester 2, 2022<br>Lecturer: Ian McLoughlin\n",
    "\n",
    "## Task: Time Series Anomaly detection using Keras"
   ]
  },
  {
   "cell_type": "markdown",
   "id": "05da3a9c",
   "metadata": {},
   "source": [
    "## Contents\n",
    "1. [Introduction](#Introduction)\n",
    "2. [What is a Time Series?](#What-is-a-Time-Series?)\n",
    "3. [Analysis of Time Series](#Analysis-of-Time-Series)\n",
    "4. [What is anomaly detection?](#What-is-anomaly-detection?)\n",
    "5. [Types of time series anomalies](#Types-of-time-series-anomalies)<br>\n",
    "    i. [Point anomalies (global outliers)](#Point-anomalies-(global-outliers))<br>\n",
    "    ii. []()<br>\n",
    "    iii. []()<br>"
   ]
  },
  {
   "cell_type": "markdown",
   "id": "e2f3924b",
   "metadata": {},
   "source": [
    "## Introduction\n",
    "From the Keras website, use the example [Timeseries anomaly detection using an Autoencoder](https://keras.io/examples/timeseries/timeseries_anomaly_detection/).<br>\n",
    "<br>\n",
    "Re-create the example and explain the concepts in more detail.<br>\n",
    "By the end of this notebook, the reader should have an understanding of what Keras does,<br>\n",
    "and what it can be used for.<br>\n"
   ]
  },
  {
   "cell_type": "markdown",
   "id": "178d8851",
   "metadata": {},
   "source": [
    "## What is a Time Series?\n",
    "A time series is a series of data points that are indexed in time order.<br>\n",
    "Examples of time series are heights of ocean tides, stock market prices, house prices and many more where the index is either increasing or decreasing over time.\n",
    "\n",
    "Time series is a data set plotted against time; that's where the term comes from."
   ]
  },
  {
   "cell_type": "markdown",
   "id": "8676efec",
   "metadata": {},
   "source": [
    "## Analysis of Time Series\n",
    "Time series data is analysed in order to extract insight from it; for example, time series forecasting tries to predict future values based on previously recorded values by using a mathematical model.<br>\n",
    "From this, patterns or trends in the data might emerge that could provide insight into future behaviour of the data, i.e. cyclical or seasonal patterns.\n",
    "\n",
    "Time series analysis of a business' data can identify trends in historical data that might be explained by processes or methods and thus future behaviour and/or patterns can be predicted."
   ]
  },
  {
   "cell_type": "markdown",
   "id": "33651418",
   "metadata": {},
   "source": [
    "## What is anomaly detection?\n",
    "\n",
    "If time series data is used to forecast future behaviour, then an anomaly would be any event that lies outside the range of the expected future behaviour. \n",
    "\n",
    "Anomaly detection is a step in machine learning that identifies whether:\n",
    "- data points\n",
    "- events\n",
    "- observations\n",
    "that is outside the range of expected behaviour for a data set. \n",
    "Examples can include servers failing, a change in consumer behaviour, or cyberattacks. \n",
    "<br>\n",
    "\n",
    "An anomaly is also known as an outlier."
   ]
  },
  {
   "cell_type": "markdown",
   "id": "c68d315c",
   "metadata": {},
   "source": [
    "## Types of time series anomalies"
   ]
  },
  {
   "cell_type": "markdown",
   "id": "36dd0392",
   "metadata": {},
   "source": [
    "### Point anomalies (global outliers)\n",
    "\n",
    "This is when a datapoint falls outside the expected range or pattern of the dataset.<br>\n",
    "An example would be financial spending - using debit card spending as an example, the normal pattern of spending would be small to medium sized amounts, located in a particular geographical area (let's say Ireland in this case).\n",
    "A point anomaly would be a large sized amount that originated in a different country - it's outside the normal geographical region and over the amount that is usually spent."
   ]
  },
  {
   "cell_type": "markdown",
   "id": "cfe6520e",
   "metadata": {},
   "source": [
    "### Collective anomalies\n",
    "\n",
    "This is when a datapoint falls within the expected range or pattern of the dataset, but when examined as a group of datapoints, unexpected patterns present themselves.<br>\n",
    "Using the debit card spending as an example, we can say that the holder of the card lives and makes most of their purchases with the debit card in and around County Cork.\n",
    "However, there could also be purchases that are small to medium sized in Galway - perhaps on the same day within a few minutes of each other, which would indicate a cloned card."
   ]
  },
  {
   "cell_type": "markdown",
   "id": "f27a0178",
   "metadata": {},
   "source": [
    "### Contextual anomalies\n",
    "This is when datapoints are considered anomalies when considered within the context of the dataset.\n",
    "Using network traffic as an example - we would expect the majority of network traffic to be during business hours, so if there's a large amount of traffic suddenly in the middle of the night, it could be a Denial-Of-Service (DOS) attack or a network intrusion attempt."
   ]
  },
  {
   "cell_type": "code",
   "execution_count": null,
   "id": "f73d4782",
   "metadata": {},
   "outputs": [],
   "source": []
  },
  {
   "cell_type": "code",
   "execution_count": null,
   "id": "7a5a3e66",
   "metadata": {},
   "outputs": [],
   "source": []
  },
  {
   "cell_type": "code",
   "execution_count": null,
   "id": "ca7030a5",
   "metadata": {},
   "outputs": [],
   "source": []
  },
  {
   "cell_type": "markdown",
   "id": "03c9247f",
   "metadata": {},
   "source": [
    "### Conclusion"
   ]
  },
  {
   "cell_type": "markdown",
   "id": "6337a5b0",
   "metadata": {},
   "source": [
    "### References\n"
   ]
  },
  {
   "cell_type": "markdown",
   "id": "1929fdbd",
   "metadata": {},
   "source": [
    "1. [Timeseries anomaly detection from Keras](https://keras.io/examples/timeseries/timeseries_anomaly_detection/)\n",
    "2. [Explanation of Time Series from Wikipedia](https://en.wikipedia.org/wiki/Time_series)\n",
    "3. [Explanation of anomaly detection from IBM developer portal](https://developer.ibm.com/learningpaths/get-started-anomaly-detection-api/what-is-anomaly-detection/)"
   ]
  }
 ],
 "metadata": {
  "kernelspec": {
   "display_name": "Python 3 (ipykernel)",
   "language": "python",
   "name": "python3"
  },
  "language_info": {
   "codemirror_mode": {
    "name": "ipython",
    "version": 3
   },
   "file_extension": ".py",
   "mimetype": "text/x-python",
   "name": "python",
   "nbconvert_exporter": "python",
   "pygments_lexer": "ipython3",
   "version": "3.9.13"
  }
 },
 "nbformat": 4,
 "nbformat_minor": 5
}
