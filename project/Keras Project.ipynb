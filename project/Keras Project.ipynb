{
 "cells": [
  {
   "cell_type": "markdown",
   "id": "672bae35",
   "metadata": {},
   "source": [
    "## 'Machine Learning and Statistics' module project, ATU<br>Semester 2, 2022<br>Lecturer: Ian McLoughlin\n",
    "\n",
    "## Task: Time Series Anomaly detection using Keras"
   ]
  },
  {
   "cell_type": "markdown",
   "id": "d055744f",
   "metadata": {},
   "source": [
    "## Contents\n",
    "1. [Introduction](#Introduction)\n",
    "2. [What is a Time Series?](#What-is-a-Time-Series?)\n",
    "3. [Analysis of Time Series](#Analysis-of-Time-Series)\n",
    "4. [What is anomaly detection?](#What-is-anomaly-detection?)\n",
    "5. [Types of time series anomalies](#Types-of-time-series-anomalies)<br>\n",
    "    i. [Point anomalies (global outliers)](#Point-anomalies-(global-outliers))<br>\n",
    "    ii. [Collective anomalies](#Collective-anomalies)<br>\n",
    "    iii. [Contextual anomalies](#Contextual-anomalies)<br>\n",
    "6. [Keras setup](#Keras-setup)\n",
    "7. [Visualise the data](#Visualise-the-data)<br>\n",
    "    i. [Timeseries data without anomalies](#Timeseries-data-without-anomalies)<br>\n",
    "    ii. [Timeseries data with anomalies](#Timeseries-data-with-anomalies)<br>\n",
    "8. [Prepare the training data](#Prepare-the-training-data)<br>\n",
    "    i. [Create sequences](#Create-sequences)<br>\n",
    "9. [Build a model](#Build-a-model)\n",
    "10. [Train the model](#Train-the-model)<br>\n",
    "    i. [Training and validation loss](#Training-and-validation-loss)<br>\n",
    "11. [Anomaly detection](#Anomaly-detection)"
   ]
  },
  {
   "cell_type": "markdown",
   "id": "e2f3924b",
   "metadata": {},
   "source": [
    "## Introduction\n",
    "From the Keras website, use the example [Timeseries anomaly detection using an Autoencoder](https://keras.io/examples/timeseries/timeseries_anomaly_detection/).<br>\n",
    "<br>\n",
    "Re-create the example and explain the concepts in more detail.<br>\n",
    "By the end of this notebook, the reader should have an understanding of what Keras does,<br>\n",
    "and what it can be used for.<br>\n"
   ]
  },
  {
   "cell_type": "markdown",
   "id": "178d8851",
   "metadata": {},
   "source": [
    "## What is a Time Series?\n",
    "A time series is a series of data points that are indexed in time order.<br>\n",
    "Examples of time series are heights of ocean tides, stock market prices, house prices and many more where the index is either increasing or decreasing over time.\n",
    "\n",
    "Time series is a data set plotted against time; that's where the term comes from."
   ]
  },
  {
   "cell_type": "markdown",
   "id": "8676efec",
   "metadata": {},
   "source": [
    "## Analysis of Time Series\n",
    "Time series data is analysed in order to extract insight from it; for example, time series forecasting tries to predict future values based on previously recorded values by using a mathematical model.<br>\n",
    "From this, patterns or trends in the data might emerge that could provide insight into future behaviour of the data, i.e. cyclical or seasonal patterns.\n",
    "\n",
    "Time series analysis of a business' data can identify trends in historical data that might be explained by processes or methods and thus future behaviour and/or patterns can be predicted."
   ]
  },
  {
   "cell_type": "markdown",
   "id": "33651418",
   "metadata": {},
   "source": [
    "## What is anomaly detection?\n",
    "\n",
    "If time series data is used to forecast future behaviour, then an anomaly would be any event that lies outside the range of the expected future behaviour. \n",
    "\n",
    "Anomaly detection is a step in machine learning that identifies whether:\n",
    "- data points\n",
    "- events\n",
    "- observations\n",
    "that is outside the range of expected behaviour for a data set. \n",
    "Examples can include servers failing, a change in consumer behaviour, or cyberattacks. \n",
    "<br>\n",
    "\n",
    "An anomaly is also known as an outlier."
   ]
  },
  {
   "cell_type": "markdown",
   "id": "905446b7",
   "metadata": {},
   "source": [
    "## Types of time series anomalies"
   ]
  },
  {
   "cell_type": "markdown",
   "id": "ea966828",
   "metadata": {},
   "source": [
    "### Point anomalies (global outliers)\n",
    "\n",
    "This is when a datapoint falls outside the expected range or pattern of the dataset.<br>\n",
    "An example would be financial spending - using debit card spending as an example, the normal pattern of spending would be small to medium sized amounts, located in a particular geographical area (let's say Ireland in this case).\n",
    "A point anomaly would be a large sized amount that originated in a different country - it's outside the normal geographical region and over the amount that is usually spent."
   ]
  },
  {
   "cell_type": "markdown",
   "id": "ea7e8cc3",
   "metadata": {},
   "source": [
    "### Collective anomalies\n",
    "\n",
    "This is when a datapoint falls within the expected range or pattern of the dataset, but when examined as a group of datapoints, unexpected patterns present themselves.<br>\n",
    "Using the debit card spending as an example, we can say that the holder of the card lives and makes most of their purchases with the debit card in and around County Cork.\n",
    "However, there could also be purchases that are small to medium sized in Galway - perhaps on the same day within a few minutes of each other, which would indicate a cloned card."
   ]
  },
  {
   "cell_type": "markdown",
   "id": "e28c024a",
   "metadata": {},
   "source": [
    "### Contextual anomalies\n",
    "This is when datapoints are considered anomalies when considered within the context of the dataset.\n",
    "Using network traffic as an example - we would expect the majority of network traffic to be during business hours, so if there's a large amount of traffic suddenly in the middle of the night, it could be a Denial-Of-Service (DOS) attack or a network intrusion attempt."
   ]
  },
  {
   "cell_type": "markdown",
   "id": "4a644519",
   "metadata": {},
   "source": [
    "## Keras setup"
   ]
  },
  {
   "cell_type": "markdown",
   "id": "1557b457",
   "metadata": {},
   "source": [
    "The following code recreates the documentation page from the Keras website:\n",
    "### Using a reconstruction convolutional autoencoder model to detect anomalies in timeseries data"
   ]
  },
  {
   "cell_type": "markdown",
   "id": "12a0bb3d",
   "metadata": {},
   "source": [
    "Import the necessary scripts:"
   ]
  },
  {
   "cell_type": "code",
   "execution_count": 3,
   "id": "1e78ef4c",
   "metadata": {
    "scrolled": false
   },
   "outputs": [],
   "source": [
    "import numpy as np\n",
    "import pandas as pd\n",
    "from tensorflow import keras\n",
    "from tensorflow.keras import layers\n",
    "from matplotlib import pyplot as plt"
   ]
  },
  {
   "cell_type": "markdown",
   "id": "507c2b8b",
   "metadata": {},
   "source": [
    "Load the [Numenta Anomaly Benchmark (NAB)](https://www.kaggle.com/boltzmannbrain/nab) dataset.<br>\n",
    "This dataset provides artificial timeseries data containing labeled anomalous periods of behaviour.\n",
    "\n",
    "Datapoints are:\n",
    "- ordered\n",
    "- timestamped\n",
    "- single-valued\n",
    "\n",
    "As in the Keras documentation page:\n",
    "- art_daily_small_noise.csv for training\n",
    "- art_daily_jumpsup.csv for testing\n",
    "\n",
    "Because the dataset is simple, it can clearly demonstrate anomaly detection."
   ]
  },
  {
   "cell_type": "code",
   "execution_count": 4,
   "id": "95b53c1a",
   "metadata": {},
   "outputs": [],
   "source": [
    "master_url_root = \"https://raw.githubusercontent.com/numenta/NAB/master/data/\"\n",
    "\n",
    "df_small_noise_url_suffix = \"artificialNoAnomaly/art_daily_small_noise.csv\"\n",
    "df_small_noise_url = master_url_root + df_small_noise_url_suffix\n",
    "df_small_noise = pd.read_csv(\n",
    "    df_small_noise_url, parse_dates=True, index_col=\"timestamp\"\n",
    ")\n",
    "\n",
    "df_daily_jumpsup_url_suffix = \"artificialWithAnomaly/art_daily_jumpsup.csv\"\n",
    "df_daily_jumpsup_url = master_url_root + df_daily_jumpsup_url_suffix\n",
    "df_daily_jumpsup = pd.read_csv(\n",
    "    df_daily_jumpsup_url, parse_dates=True, index_col=\"timestamp\"\n",
    ")"
   ]
  },
  {
   "cell_type": "markdown",
   "id": "7528fd82",
   "metadata": {},
   "source": [
    "Look at the first five rows of each csv file:"
   ]
  },
  {
   "cell_type": "code",
   "execution_count": 5,
   "id": "13212a44",
   "metadata": {},
   "outputs": [
    {
     "name": "stdout",
     "output_type": "stream",
     "text": [
      "                         value\n",
      "timestamp                     \n",
      "2014-04-01 00:00:00  18.324919\n",
      "2014-04-01 00:05:00  21.970327\n",
      "2014-04-01 00:10:00  18.624806\n",
      "2014-04-01 00:15:00  21.953684\n",
      "2014-04-01 00:20:00  21.909120\n",
      "                         value\n",
      "timestamp                     \n",
      "2014-04-01 00:00:00  19.761252\n",
      "2014-04-01 00:05:00  20.500833\n",
      "2014-04-01 00:10:00  19.961641\n",
      "2014-04-01 00:15:00  21.490266\n",
      "2014-04-01 00:20:00  20.187739\n"
     ]
    }
   ],
   "source": [
    "print(df_small_noise.head())\n",
    "\n",
    "print(df_daily_jumpsup.head())"
   ]
  },
  {
   "cell_type": "markdown",
   "id": "46efe575",
   "metadata": {},
   "source": [
    "## Visualise the data"
   ]
  },
  {
   "cell_type": "markdown",
   "id": "2ec8d12f",
   "metadata": {},
   "source": [
    "### Timeseries data without anomalies\n",
    "\n",
    "Use the data below for training:"
   ]
  },
  {
   "cell_type": "code",
   "execution_count": 6,
   "id": "85e4d9ea",
   "metadata": {},
   "outputs": [
    {
     "data": {
      "image/png": "[encoded data removed]",
      "text/plain": [
       "<Figure size 640x480 with 1 Axes>"
      ]
     },
     "metadata": {},
     "output_type": "display_data"
    }
   ],
   "source": [
    "fig, ax = plt.subplots()\n",
    "df_small_noise.plot(legend=False, ax=ax)\n",
    "plt.show()"
   ]
  },
  {
   "cell_type": "markdown",
   "id": "fe459f71",
   "metadata": {},
   "source": [
    "### Timeseries data with anomalies\n",
    "\n",
    "Use the following data for testing and see if the data point that's out of range is detected as an anomaly"
   ]
  },
  {
   "cell_type": "code",
   "execution_count": 7,
   "id": "23847f8e",
   "metadata": {},
   "outputs": [
    {
     "data": {
      "image/png": "[encoded data removed]",
      "text/plain": [
       "<Figure size 640x480 with 1 Axes>"
      ]
     },
     "metadata": {},
     "output_type": "display_data"
    }
   ],
   "source": [
    "fig, ax = plt.subplots()\n",
    "df_daily_jumpsup.plot(legend=False, ax=ax)\n",
    "plt.show()"
   ]
  },
  {
   "cell_type": "markdown",
   "id": "5e42281c",
   "metadata": {},
   "source": [
    "## Prepare the training data\n",
    "\n",
    "We want to prepare the data so that our model can 'learn' from it and detect anomalies.\n",
    "\n",
    "Get data values from the training timeseries data, *normalize* the <span style=\"color:red\">value</span> data.<br>\n",
    "Our <span style=\"color:red\">value</span> data points are every 5 minutes for 14 days.\n",
    "- 24 * 60 / 5 = **288 timesteps per day**\n",
    "- 288 * 14 = **4032 total data points**"
   ]
  },
  {
   "cell_type": "code",
   "execution_count": 8,
   "id": "ac21578a",
   "metadata": {},
   "outputs": [
    {
     "name": "stdout",
     "output_type": "stream",
     "text": [
      "Number of training samples: 4032\n"
     ]
    }
   ],
   "source": [
    "# Normalize and save the mean and std we get,\n",
    "# for normalizing test data.\n",
    "training_mean = df_small_noise.mean()\n",
    "training_std = df_small_noise.std()\n",
    "df_training_value = (df_small_noise - training_mean) / training_std\n",
    "print(\"Number of training samples:\", len(df_training_value))"
   ]
  },
  {
   "cell_type": "markdown",
   "id": "ee812d39",
   "metadata": {},
   "source": [
    "### Create sequences"
   ]
  },
  {
   "cell_type": "markdown",
   "id": "193cca57",
   "metadata": {},
   "source": [
    "Create sequences combining <span style=\"color:red\">TIME_STEPS</span> contiguous data values from the training data:"
   ]
  },
  {
   "cell_type": "code",
   "execution_count": 9,
   "id": "878d6ec4",
   "metadata": {},
   "outputs": [
    {
     "name": "stdout",
     "output_type": "stream",
     "text": [
      "Training input shape:  (3745, 288, 1)\n"
     ]
    }
   ],
   "source": [
    "TIME_STEPS = 288\n",
    "\n",
    "# Generated training sequences for use in the model.\n",
    "def create_sequences(values, time_steps=TIME_STEPS):\n",
    "    output = []\n",
    "    for i in range(len(values) - time_steps + 1):\n",
    "        output.append(values[i : (i + time_steps)])\n",
    "    return np.stack(output)\n",
    "\n",
    "\n",
    "x_train = create_sequences(df_training_value.values)\n",
    "print(\"Training input shape: \", x_train.shape)"
   ]
  },
  {
   "cell_type": "markdown",
   "id": "551eccf3",
   "metadata": {},
   "source": [
    "## Build a model"
   ]
  },
  {
   "cell_type": "markdown",
   "id": "98a16184",
   "metadata": {},
   "source": [
    "The next step is to build a model - the convolutional reconstruction autoencoder model.<br>\n",
    "The model will take input of shape:<br>\n",
    "<span style=\"color:red\">batch_size</span><br>\n",
    "<span style=\"color:red\">sequence_length</span><br>\n",
    "<span style=\"color:red\">num_features</span><br>\n",
    "and return an output of the same shape.\n",
    "\n",
    "From the created sequence above:<br>\n",
    "<span style=\"color:red\">sequence_length</span> = 288<br>\n",
    "and<br>\n",
    "<span style=\"color:red\">num_features</span> = 1"
   ]
  },
  {
   "cell_type": "code",
   "execution_count": 10,
   "id": "144a3968",
   "metadata": {},
   "outputs": [
    {
     "name": "stdout",
     "output_type": "stream",
     "text": [
      "Model: \"sequential\"\n",
      "_________________________________________________________________\n",
      " Layer (type)                Output Shape              Param #   \n",
      "=================================================================\n",
      " conv1d (Conv1D)             (None, 144, 32)           256       \n",
      "                                                                 \n",
      " dropout (Dropout)           (None, 144, 32)           0         \n",
      "                                                                 \n",
      " conv1d_1 (Conv1D)           (None, 72, 16)            3600      \n",
      "                                                                 \n",
      " conv1d_transpose (Conv1DTra  (None, 144, 16)          1808      \n",
      " nspose)                                                         \n",
      "                                                                 \n",
      " dropout_1 (Dropout)         (None, 144, 16)           0         \n",
      "                                                                 \n",
      " conv1d_transpose_1 (Conv1DT  (None, 288, 32)          3616      \n",
      " ranspose)                                                       \n",
      "                                                                 \n",
      " conv1d_transpose_2 (Conv1DT  (None, 288, 1)           225       \n",
      " ranspose)                                                       \n",
      "                                                                 \n",
      "=================================================================\n",
      "Total params: 9,505\n",
      "Trainable params: 9,505\n",
      "Non-trainable params: 0\n",
      "_________________________________________________________________\n"
     ]
    }
   ],
   "source": [
    "model = keras.Sequential(\n",
    "    [\n",
    "        layers.Input(shape=(x_train.shape[1], x_train.shape[2])),\n",
    "        layers.Conv1D(\n",
    "            filters=32, kernel_size=7, padding=\"same\", strides=2, activation=\"relu\"\n",
    "        ),\n",
    "        layers.Dropout(rate=0.2),\n",
    "        layers.Conv1D(\n",
    "            filters=16, kernel_size=7, padding=\"same\", strides=2, activation=\"relu\"\n",
    "        ),\n",
    "        layers.Conv1DTranspose(\n",
    "            filters=16, kernel_size=7, padding=\"same\", strides=2, activation=\"relu\"\n",
    "        ),\n",
    "        layers.Dropout(rate=0.2),\n",
    "        layers.Conv1DTranspose(\n",
    "            filters=32, kernel_size=7, padding=\"same\", strides=2, activation=\"relu\"\n",
    "        ),\n",
    "        layers.Conv1DTranspose(filters=1, kernel_size=7, padding=\"same\"),\n",
    "    ]\n",
    ")\n",
    "model.compile(optimizer=keras.optimizers.Adam(learning_rate=0.001), loss=\"mse\")\n",
    "model.summary()"
   ]
  },
  {
   "cell_type": "markdown",
   "id": "6e9133ab",
   "metadata": {},
   "source": [
    "## Train the model"
   ]
  },
  {
   "cell_type": "markdown",
   "id": "1dafdcfd",
   "metadata": {},
   "source": [
    "Because this is a reconstruction model, <span style=\"color:red\">x_train</span> will be used as both the input and target."
   ]
  },
  {
   "cell_type": "code",
   "execution_count": 11,
   "id": "417c7b78",
   "metadata": {},
   "outputs": [
    {
     "name": "stdout",
     "output_type": "stream",
     "text": [
      "Epoch 1/50\n",
      "27/27 [==============================] - 1s 23ms/step - loss: 0.4379 - val_loss: 0.0772\n",
      "Epoch 2/50\n",
      "27/27 [==============================] - 0s 14ms/step - loss: 0.0747 - val_loss: 0.0403\n",
      "Epoch 3/50\n",
      "27/27 [==============================] - 0s 16ms/step - loss: 0.0568 - val_loss: 0.0397\n",
      "Epoch 4/50\n",
      "27/27 [==============================] - 0s 14ms/step - loss: 0.0492 - val_loss: 0.0357\n",
      "Epoch 5/50\n",
      "27/27 [==============================] - 0s 15ms/step - loss: 0.0428 - val_loss: 0.0375\n",
      "Epoch 6/50\n",
      "27/27 [==============================] - 0s 15ms/step - loss: 0.0375 - val_loss: 0.0358\n",
      "Epoch 7/50\n",
      "27/27 [==============================] - 0s 16ms/step - loss: 0.0336 - val_loss: 0.0338\n",
      "Epoch 8/50\n",
      "27/27 [==============================] - 0s 18ms/step - loss: 0.0304 - val_loss: 0.0336\n",
      "Epoch 9/50\n",
      "27/27 [==============================] - 0s 15ms/step - loss: 0.0278 - val_loss: 0.0321\n",
      "Epoch 10/50\n",
      "27/27 [==============================] - 0s 15ms/step - loss: 0.0257 - val_loss: 0.0301\n",
      "Epoch 11/50\n",
      "27/27 [==============================] - 0s 18ms/step - loss: 0.0241 - val_loss: 0.0305\n",
      "Epoch 12/50\n",
      "27/27 [==============================] - 0s 15ms/step - loss: 0.0227 - val_loss: 0.0295\n",
      "Epoch 13/50\n",
      "27/27 [==============================] - 0s 15ms/step - loss: 0.0217 - val_loss: 0.0283\n",
      "Epoch 14/50\n",
      "27/27 [==============================] - 0s 14ms/step - loss: 0.0207 - val_loss: 0.0276\n",
      "Epoch 15/50\n",
      "27/27 [==============================] - 0s 14ms/step - loss: 0.0198 - val_loss: 0.0244\n",
      "Epoch 16/50\n",
      "27/27 [==============================] - 0s 16ms/step - loss: 0.0191 - val_loss: 0.0240\n",
      "Epoch 17/50\n",
      "27/27 [==============================] - 0s 14ms/step - loss: 0.0184 - val_loss: 0.0222\n",
      "Epoch 18/50\n",
      "27/27 [==============================] - 0s 14ms/step - loss: 0.0178 - val_loss: 0.0208\n",
      "Epoch 19/50\n",
      "27/27 [==============================] - 0s 14ms/step - loss: 0.0171 - val_loss: 0.0207\n",
      "Epoch 20/50\n",
      "27/27 [==============================] - 0s 16ms/step - loss: 0.0165 - val_loss: 0.0193\n",
      "Epoch 21/50\n",
      "27/27 [==============================] - 0s 14ms/step - loss: 0.0161 - val_loss: 0.0182\n",
      "Epoch 22/50\n",
      "27/27 [==============================] - 0s 17ms/step - loss: 0.0156 - val_loss: 0.0163\n",
      "Epoch 23/50\n",
      "27/27 [==============================] - 0s 15ms/step - loss: 0.0152 - val_loss: 0.0169\n",
      "Epoch 24/50\n",
      "27/27 [==============================] - 0s 14ms/step - loss: 0.0147 - val_loss: 0.0167\n",
      "Epoch 25/50\n",
      "27/27 [==============================] - 0s 15ms/step - loss: 0.0144 - val_loss: 0.0155\n",
      "Epoch 26/50\n",
      "27/27 [==============================] - 0s 15ms/step - loss: 0.0140 - val_loss: 0.0150\n",
      "Epoch 27/50\n",
      "27/27 [==============================] - 0s 16ms/step - loss: 0.0136 - val_loss: 0.0145\n",
      "Epoch 28/50\n",
      "27/27 [==============================] - 0s 15ms/step - loss: 0.0133 - val_loss: 0.0144\n",
      "Epoch 29/50\n",
      "27/27 [==============================] - 0s 16ms/step - loss: 0.0129 - val_loss: 0.0137\n",
      "Epoch 30/50\n",
      "27/27 [==============================] - 0s 14ms/step - loss: 0.0126 - val_loss: 0.0135\n",
      "Epoch 31/50\n",
      "27/27 [==============================] - 0s 15ms/step - loss: 0.0123 - val_loss: 0.0120\n",
      "Epoch 32/50\n",
      "27/27 [==============================] - 0s 15ms/step - loss: 0.0120 - val_loss: 0.0123\n",
      "Epoch 33/50\n",
      "27/27 [==============================] - 0s 16ms/step - loss: 0.0117 - val_loss: 0.0116\n",
      "Epoch 34/50\n",
      "27/27 [==============================] - 0s 14ms/step - loss: 0.0114 - val_loss: 0.0113\n",
      "Epoch 35/50\n",
      "27/27 [==============================] - 0s 15ms/step - loss: 0.0112 - val_loss: 0.0116\n",
      "Epoch 36/50\n",
      "27/27 [==============================] - 0s 16ms/step - loss: 0.0109 - val_loss: 0.0104\n",
      "Epoch 37/50\n",
      "27/27 [==============================] - 0s 15ms/step - loss: 0.0106 - val_loss: 0.0110\n",
      "Epoch 38/50\n",
      "27/27 [==============================] - 0s 18ms/step - loss: 0.0105 - val_loss: 0.0109\n",
      "Epoch 39/50\n",
      "27/27 [==============================] - 0s 18ms/step - loss: 0.0102 - val_loss: 0.0102\n",
      "Epoch 40/50\n",
      "27/27 [==============================] - 0s 14ms/step - loss: 0.0100 - val_loss: 0.0105\n",
      "Epoch 41/50\n",
      "27/27 [==============================] - 0s 14ms/step - loss: 0.0097 - val_loss: 0.0099\n",
      "Epoch 42/50\n",
      "27/27 [==============================] - 0s 14ms/step - loss: 0.0095 - val_loss: 0.0096\n",
      "Epoch 43/50\n",
      "27/27 [==============================] - 0s 15ms/step - loss: 0.0092 - val_loss: 0.0094\n",
      "Epoch 44/50\n",
      "27/27 [==============================] - 0s 14ms/step - loss: 0.0091 - val_loss: 0.0094\n",
      "Epoch 45/50\n",
      "27/27 [==============================] - 0s 16ms/step - loss: 0.0088 - val_loss: 0.0094\n",
      "Epoch 46/50\n",
      "27/27 [==============================] - 0s 15ms/step - loss: 0.0086 - val_loss: 0.0097\n",
      "Epoch 47/50\n",
      "27/27 [==============================] - 0s 15ms/step - loss: 0.0084 - val_loss: 0.0092\n",
      "Epoch 48/50\n",
      "27/27 [==============================] - 0s 15ms/step - loss: 0.0081 - val_loss: 0.0090\n",
      "Epoch 49/50\n",
      "27/27 [==============================] - 0s 16ms/step - loss: 0.0079 - val_loss: 0.0091\n",
      "Epoch 50/50\n",
      "27/27 [==============================] - 0s 17ms/step - loss: 0.0077 - val_loss: 0.0088\n"
     ]
    }
   ],
   "source": [
    "history = model.fit(\n",
    "    x_train,\n",
    "    x_train,\n",
    "    epochs=50,\n",
    "    batch_size=128,\n",
    "    validation_split=0.1,\n",
    "    callbacks=[\n",
    "        keras.callbacks.EarlyStopping(monitor=\"val_loss\", patience=5, mode=\"min\")\n",
    "    ],\n",
    ")"
   ]
  },
  {
   "cell_type": "markdown",
   "id": "c237a003",
   "metadata": {},
   "source": [
    "### Epoch Definition"
   ]
  },
  {
   "cell_type": "markdown",
   "id": "cea3dca4",
   "metadata": {},
   "source": [
    "From the results above, the phrase *Epoch* is used.\n",
    "\n",
    "Machine learning models are trained by passing datasets through algorithms.\n",
    "The phrase *Epoch* is used to describe an entire dataset being passed through an algorithm once.\n",
    "\n",
    "An Epoch is also known as a *hyperparameter*."
   ]
  },
  {
   "cell_type": "markdown",
   "id": "63f414e8",
   "metadata": {},
   "source": [
    "### Training and validation loss"
   ]
  },
  {
   "cell_type": "markdown",
   "id": "5379103a",
   "metadata": {},
   "source": [
    "Now plot the training and validation loss to check the training:"
   ]
  },
  {
   "cell_type": "code",
   "execution_count": 12,
   "id": "784684e5",
   "metadata": {},
   "outputs": [
    {
     "data": {
      "image/png": "[encoded data removed]",
      "text/plain": [
       "<Figure size 640x480 with 1 Axes>"
      ]
     },
     "metadata": {},
     "output_type": "display_data"
    }
   ],
   "source": [
    "plt.plot(history.history[\"loss\"], label=\"Training Loss\")\n",
    "plt.plot(history.history[\"val_loss\"], label=\"Validation Loss\")\n",
    "plt.legend()\n",
    "plt.show()"
   ]
  },
  {
   "cell_type": "markdown",
   "id": "1f62bcd5",
   "metadata": {},
   "source": [
    "## Anomaly detection"
   ]
  },
  {
   "cell_type": "markdown",
   "id": "e86e1400",
   "metadata": {},
   "source": [
    "Now find the anomalies by using the model to reconstruct the input data."
   ]
  },
  {
   "cell_type": "code",
   "execution_count": null,
   "id": "2b9fee64",
   "metadata": {},
   "outputs": [],
   "source": []
  },
  {
   "cell_type": "code",
   "execution_count": null,
   "id": "97d63f1c",
   "metadata": {},
   "outputs": [],
   "source": []
  },
  {
   "cell_type": "code",
   "execution_count": null,
   "id": "edef66cb",
   "metadata": {},
   "outputs": [],
   "source": []
  },
  {
   "cell_type": "markdown",
   "id": "46a2ffc5",
   "metadata": {},
   "source": [
    "## Terminology\n",
    "\n",
    "See below for deeper explanations about the terminology that's commonly used in machine learning."
   ]
  },
  {
   "cell_type": "markdown",
   "id": "f9360d0e",
   "metadata": {},
   "source": [
    "### Deep Learning\n",
    "\n",
    "Deep learning is a subset of machine learning that uses artificial neural networks to learn and find patterns in large amounts of data."
   ]
  },
  {
   "cell_type": "markdown",
   "id": "d774f173",
   "metadata": {},
   "source": [
    "### Artificial neural networks\n",
    "\n",
    "These are algorithms inspired by biological neural networks. Consisting of nodes and weights that are connected, where the nodes are also known as neurons.\n",
    "Input signals are passed into the nodes, run through a function and multiplied by a weight to produce the final result - an output signal."
   ]
  },
  {
   "cell_type": "markdown",
   "id": "d14d76e4",
   "metadata": {},
   "source": [
    "### Loss\n",
    "\n",
    "Measures how good the deep learning model is.<br>\n",
    "The loss value is the summation of errors in the model and a loss or cost function is used to calculate it.<br>\n",
    "A high loss value means that model is producing lots of errors, and vice versa for a low loss value."
   ]
  },
  {
   "cell_type": "markdown",
   "id": "e70e9694",
   "metadata": {},
   "source": [
    "### Training loss\n",
    "\n",
    "This is used to assess how well a deep learning model fits the training data presented to it. The training data is a part of the dataset used to train the model.\n",
    "The training loss is calculated by taking the sum of errors for each point in the training data and is measured after each batch."
   ]
  },
  {
   "cell_type": "markdown",
   "id": "b1ae5e0a",
   "metadata": {},
   "source": [
    "### Validation loss\n",
    "\n",
    "This is used to assess how well the deep learning model performs on the validation data, where the validation data is a part of the dataset used to validate the model's performance.\n",
    "Validation loss is also calculated from the sum of errors, but for each point in the validation set."
   ]
  },
  {
   "cell_type": "markdown",
   "id": "a4ccb202",
   "metadata": {},
   "source": [
    "### Mean Absolute Error (MAE)\n",
    "\n",
    "This is also known as L1 loss and is used for quantifying the quality of a machine learning model.\n",
    "This is how we get to MAE.\n",
    "1. Find the Prediction Error:<br> \n",
    "    Prediction Error = Actual Value - Predicted Value<br>\n",
    "2. Get the Absolute Error:<br>\n",
    "    Absolute Error = |Prediction Error|\n",
    "3. MAE = average of absolute errors."
   ]
  },
  {
   "cell_type": "code",
   "execution_count": null,
   "id": "6c2aceec",
   "metadata": {},
   "outputs": [],
   "source": []
  },
  {
   "cell_type": "markdown",
   "id": "03c9247f",
   "metadata": {},
   "source": [
    "### Conclusion"
   ]
  },
  {
   "cell_type": "markdown",
   "id": "6337a5b0",
   "metadata": {},
   "source": [
    "### References\n"
   ]
  },
  {
   "cell_type": "markdown",
   "id": "1929fdbd",
   "metadata": {},
   "source": [
    "1. [Timeseries anomaly detection from Keras](https://keras.io/examples/timeseries/timeseries_anomaly_detection/)\n",
    "2. [Numenta Anomaly Benchmark (NAB)](https://www.kaggle.com/datasets/boltzmannbrain/nab)\n",
    "3. [Explanation of Time Series from Wikipedia](https://en.wikipedia.org/wiki/Time_series)\n",
    "4. [Explanation of anomaly detection from IBM developer portal](https://developer.ibm.com/learningpaths/get-started-anomaly-detection-api/what-is-anomaly-detection/)\n",
    "5. [Explanation of an autoencoder from Wikipedia](https://en.wikipedia.org/wiki/Autoencoder)"
   ]
  }
 ],
 "metadata": {
  "kernelspec": {
   "display_name": "Python 3 (ipykernel)",
   "language": "python",
   "name": "python3"
  },
  "language_info": {
   "codemirror_mode": {
    "name": "ipython",
    "version": 3
   },
   "file_extension": ".py",
   "mimetype": "text/x-python",
   "name": "python",
   "nbconvert_exporter": "python",
   "pygments_lexer": "ipython3",
   "version": "3.9.13"
  }
 },
 "nbformat": 4,
 "nbformat_minor": 5
}
