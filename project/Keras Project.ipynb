{
 "cells": [
  {
   "cell_type": "markdown",
   "id": "672bae35",
   "metadata": {},
   "source": [
    "## This is the project for the 'Machine Learning and Statistics' module\n",
    "## Task: Time Series Anomaly detection using Keras"
   ]
  },
  {
   "cell_type": "markdown",
   "id": "e2f3924b",
   "metadata": {},
   "source": [
    "### Introduction\n",
    "From the Keras website, use the example [Timeseries anomaly detection using an Autoencoder](https://keras.io/examples/timeseries/timeseries_anomaly_detection/).<br>\n",
    "<br>\n",
    "Re-create the example and explain the concepts in more detail.<br>\n",
    "By the end of this notebook, the reader should have an understanding of what Keras does,<br>\n",
    "and what it can be used for.<br>\n",
    "- Explain each Keras function, referring to documentation.<br>\n",
    "- Introduction - what the reader can expect.<br>\n",
    "- Conclusion\n",
    "- References"
   ]
  },
  {
   "cell_type": "markdown",
   "id": "a0329320",
   "metadata": {},
   "source": [
    "### Background"
   ]
  },
  {
   "cell_type": "markdown",
   "id": "178d8851",
   "metadata": {},
   "source": [
    "### What is a Time Series?\n",
    "A time series is a series of data points that are indexed in time order.<br>\n",
    "Examples of time series are heights of ocean tides, stock market prices, house prices and many more where the index is either increasing or decreasing over time."
   ]
  },
  {
   "cell_type": "markdown",
   "id": "8676efec",
   "metadata": {},
   "source": [
    "### Analysis of Time Series\n",
    "Time series data is analysed in order to extract insight from it; for example, time series forecasting tries to predict future values based on previously recorded values by using a mathematical model.<br>\n",
    "From this, patterns or trends in the data might emerge that could provide insight into future behaviour of the data, i.e. cyclical or seasonal patterns."
   ]
  },
  {
   "cell_type": "markdown",
   "id": "33651418",
   "metadata": {},
   "source": [
    "### What is anomaly detection?\n",
    "Anomaly detection is a step in machine learning that identifies whether:\n",
    "- data points\n",
    "- events\n",
    "- observations\n",
    "that is outside the range of expected behaviour for a data set. \n",
    "Examples can include servers failing, a change in consumer behaviour, or cyberattacks. \n",
    "<br>\n"
   ]
  },
  {
   "cell_type": "markdown",
   "id": "e42b062f",
   "metadata": {},
   "source": [
    "### What is time series anomaly detection?\n",
    "If time series data is used to forecast future behaviour, then an anomaly would be any event that lies outside the range of the expected future behaviour. "
   ]
  },
  {
   "cell_type": "code",
   "execution_count": null,
   "id": "bc2d6dd5",
   "metadata": {},
   "outputs": [],
   "source": []
  },
  {
   "cell_type": "code",
   "execution_count": null,
   "id": "ec0fb7a0",
   "metadata": {},
   "outputs": [],
   "source": []
  },
  {
   "cell_type": "code",
   "execution_count": null,
   "id": "7bf3a105",
   "metadata": {},
   "outputs": [],
   "source": []
  },
  {
   "cell_type": "code",
   "execution_count": null,
   "id": "52703705",
   "metadata": {},
   "outputs": [],
   "source": []
  },
  {
   "cell_type": "code",
   "execution_count": null,
   "id": "f73d4782",
   "metadata": {},
   "outputs": [],
   "source": []
  },
  {
   "cell_type": "code",
   "execution_count": null,
   "id": "7a5a3e66",
   "metadata": {},
   "outputs": [],
   "source": []
  },
  {
   "cell_type": "code",
   "execution_count": null,
   "id": "ca7030a5",
   "metadata": {},
   "outputs": [],
   "source": []
  },
  {
   "cell_type": "markdown",
   "id": "03c9247f",
   "metadata": {},
   "source": [
    "### Conclusion"
   ]
  },
  {
   "cell_type": "markdown",
   "id": "6337a5b0",
   "metadata": {},
   "source": [
    "### References\n"
   ]
  },
  {
   "cell_type": "markdown",
   "id": "1929fdbd",
   "metadata": {},
   "source": [
    "1. [Explanation of Time Series from Wikipedia](https://en.wikipedia.org/wiki/Time_series)\n",
    "2. [Explanation of anomaly detection from IBM developer portal](https://developer.ibm.com/learningpaths/get-started-anomaly-detection-api/what-is-anomaly-detection/)"
   ]
  }
 ],
 "metadata": {
  "kernelspec": {
   "display_name": "Python 3 (ipykernel)",
   "language": "python",
   "name": "python3"
  },
  "language_info": {
   "codemirror_mode": {
    "name": "ipython",
    "version": 3
   },
   "file_extension": ".py",
   "mimetype": "text/x-python",
   "name": "python",
   "nbconvert_exporter": "python",
   "pygments_lexer": "ipython3",
   "version": "3.9.13"
  }
 },
 "nbformat": 4,
 "nbformat_minor": 5
}
